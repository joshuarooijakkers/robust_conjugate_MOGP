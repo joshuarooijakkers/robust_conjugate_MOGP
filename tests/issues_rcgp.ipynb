{
 "cells": [
  {
   "cell_type": "code",
   "execution_count": 38,
   "id": "c71358e2",
   "metadata": {},
   "outputs": [
    {
     "name": "stdout",
     "output_type": "stream",
     "text": [
      "['GPRegressor', 'RCGPRegressor', '__builtins__', '__cached__', '__doc__', '__file__', '__loader__', '__name__', '__package__', '__spec__', 'imq_kernel', 'np']\n"
     ]
    }
   ],
   "source": [
    "import sys\n",
    "import os\n",
    "\n",
    "sys.path.insert(0, os.path.abspath('..'))  # add repo root at front of path\n",
    "\n",
    "import importlib\n",
    "import rcgp.rcgp\n",
    "\n",
    "importlib.reload(rcgp.rcgp)  # reload to ensure fresh code from disk\n",
    "\n",
    "print(dir(rcgp.rcgp))  # Should now include 'RCGPRegressor'"
   ]
  },
  {
   "cell_type": "code",
   "execution_count": 40,
   "id": "e5ba24a0",
   "metadata": {},
   "outputs": [
    {
     "ename": "ImportError",
     "evalue": "cannot import name 'ConstantMean' from 'rcgp.kernels' (c:\\Users\\joshu\\Desktop\\uni\\thesis_UCL\\robust_conjugate_MOGP\\rcgp\\kernels.py)",
     "output_type": "error",
     "traceback": [
      "\u001b[31m---------------------------------------------------------------------------\u001b[39m",
      "\u001b[31mImportError\u001b[39m                               Traceback (most recent call last)",
      "\u001b[36mCell\u001b[39m\u001b[36m \u001b[39m\u001b[32mIn[40]\u001b[39m\u001b[32m, line 6\u001b[39m\n\u001b[32m      3\u001b[39m sys.path.append(os.path.abspath(\u001b[33m'\u001b[39m\u001b[33m..\u001b[39m\u001b[33m'\u001b[39m))\n\u001b[32m      5\u001b[39m \u001b[38;5;66;03m# from rcgp.rcgp import GPRegressor\u001b[39;00m\n\u001b[32m----> \u001b[39m\u001b[32m6\u001b[39m \u001b[38;5;28;01mfrom\u001b[39;00m\u001b[38;5;250m \u001b[39m\u001b[34;01mrcgp\u001b[39;00m\u001b[34;01m.\u001b[39;00m\u001b[34;01mkernels\u001b[39;00m\u001b[38;5;250m \u001b[39m\u001b[38;5;28;01mimport\u001b[39;00m ConstantMean, RBFKernel\n\u001b[32m      7\u001b[39m \u001b[38;5;28;01mimport\u001b[39;00m\u001b[38;5;250m \u001b[39m\u001b[34;01mnumpy\u001b[39;00m\u001b[38;5;250m \u001b[39m\u001b[38;5;28;01mas\u001b[39;00m\u001b[38;5;250m \u001b[39m\u001b[34;01mnp\u001b[39;00m\n\u001b[32m      9\u001b[39m \u001b[38;5;28mprint\u001b[39m(\u001b[33m'\u001b[39m\u001b[33mHello World\u001b[39m\u001b[33m'\u001b[39m)\n",
      "\u001b[31mImportError\u001b[39m: cannot import name 'ConstantMean' from 'rcgp.kernels' (c:\\Users\\joshu\\Desktop\\uni\\thesis_UCL\\robust_conjugate_MOGP\\rcgp\\kernels.py)"
     ]
    }
   ],
   "source": [
    "import sys\n",
    "import os\n",
    "sys.path.append(os.path.abspath('..'))\n",
    "\n",
    "# from rcgp.rcgp import GPRegressor\n",
    "from rcgp.kernels import ConstantMean, RBFKernel\n",
    "import numpy as np\n",
    "\n",
    "print('Hello World')"
   ]
  },
  {
   "cell_type": "code",
   "execution_count": 2,
   "id": "f6c4981b",
   "metadata": {},
   "outputs": [
    {
     "name": "stdout",
     "output_type": "stream",
     "text": [
      "Hello World\n"
     ]
    }
   ],
   "source": [
    "print('Hello World')"
   ]
  }
 ],
 "metadata": {
  "kernelspec": {
   "display_name": "Python 3",
   "language": "python",
   "name": "python3"
  },
  "language_info": {
   "codemirror_mode": {
    "name": "ipython",
    "version": 3
   },
   "file_extension": ".py",
   "mimetype": "text/x-python",
   "name": "python",
   "nbconvert_exporter": "python",
   "pygments_lexer": "ipython3",
   "version": "3.13.5"
  }
 },
 "nbformat": 4,
 "nbformat_minor": 5
}
