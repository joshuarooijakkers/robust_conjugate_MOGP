{
 "cells": [
  {
   "cell_type": "markdown",
   "id": "1a1c3652",
   "metadata": {},
   "source": [
    "# Import packages and load data"
   ]
  },
  {
   "cell_type": "code",
   "execution_count": 1,
   "id": "e3ff278d",
   "metadata": {},
   "outputs": [
    {
     "name": "stdout",
     "output_type": "stream",
     "text": [
      "WARNING:tensorflow:From c:\\Users\\joshu\\AppData\\Local\\Programs\\Python\\Python312\\Lib\\site-packages\\tf_keras\\src\\losses.py:2976: The name tf.losses.sparse_softmax_cross_entropy is deprecated. Please use tf.compat.v1.losses.sparse_softmax_cross_entropy instead.\n",
      "\n",
      "WARNING:tensorflow:From c:\\Users\\joshu\\AppData\\Local\\Programs\\Python\\Python312\\Lib\\site-packages\\tensorflow_probability\\python\\internal\\backend\\numpy\\_utils.py:48: The name tf.logging.TaskLevelStatusMessage is deprecated. Please use tf.compat.v1.logging.TaskLevelStatusMessage instead.\n",
      "\n",
      "WARNING:tensorflow:From c:\\Users\\joshu\\AppData\\Local\\Programs\\Python\\Python312\\Lib\\site-packages\\tensorflow_probability\\python\\internal\\backend\\numpy\\_utils.py:48: The name tf.control_flow_v2_enabled is deprecated. Please use tf.compat.v1.control_flow_v2_enabled instead.\n",
      "\n"
     ]
    },
    {
     "name": "stderr",
     "output_type": "stream",
     "text": [
      "c:\\Users\\joshu\\AppData\\Local\\Programs\\Python\\Python312\\Lib\\site-packages\\gpflow\\versions.py:1: UserWarning: pkg_resources is deprecated as an API. See https://setuptools.pypa.io/en/latest/pkg_resources.html. The pkg_resources package is slated for removal as early as 2025-11-30. Refrain from using this package or pin to Setuptools<81.\n",
      "  import pkg_resources\n"
     ]
    }
   ],
   "source": [
    "import sys\n",
    "import os\n",
    "import time\n",
    "sys.path.append(os.path.abspath('../..'))\n",
    "\n",
    "import gpflow\n",
    "import tensorflow as tf\n",
    "from gpflow.optimizers import Scipy\n",
    "\n",
    "from rcgp.morcgp import MOGPRegressor, MORCGPRegressor, MOGPRegressor_NC, MORCGPRegressor_NC, MORCGPRegressor_NC_fixed_weights, MORCGPRegressor_fixed_weights, MORCGPRegressor_PM, MORCGP, MORCGP_shared_noise\n",
    "from rcgp.rcgp import RCGPRegressor\n",
    "from rcgp.kernels import ConstantMean, RBFKernel, SineMean\n",
    "import numpy as np\n",
    "import matplotlib.pyplot as plt\n",
    "from tqdm import tqdm\n",
    "from sklearn.model_selection import train_test_split\n",
    "from sklearn.preprocessing import StandardScaler\n",
    "from sklearn.covariance import MinCovDet\n",
    "import pandas as pd\n",
    "\n",
    "plt.rcParams.update({\n",
    "    \"text.usetex\": True,         \n",
    "    \"font.family\": \"serif\",       \n",
    "    \"text.latex.preamble\": r\"\\usepackage{amsmath}\",\n",
    "    'font.size': 28,         \n",
    "    'axes.labelsize': 28,    \n",
    "    'axes.titlesize': 30,      # <-- Add this line for title size\n",
    "    'xtick.labelsize': 24,   \n",
    "    'ytick.labelsize': 24,  \n",
    "    'legend.fontsize': 24,\n",
    "    'lines.linewidth': 5,    \n",
    "    'lines.markersize': 6   \n",
    "})"
   ]
  },
  {
   "cell_type": "code",
   "execution_count": 2,
   "id": "fd95837c",
   "metadata": {},
   "outputs": [],
   "source": [
    "def generate_A(d, r=1, base_strength=1.0, noise_level=0.1, seed=None):\n",
    "    if seed is not None:\n",
    "        np.random.seed(seed)\n",
    "    shared_component = base_strength * np.ones((d, r))\n",
    "    noise = noise_level * np.random.randn(d, r)\n",
    "    A = shared_component + noise\n",
    "    return A\n",
    "\n",
    "def calculate_rmse(y_true, y_pred):\n",
    "    errors = y_true - y_pred\n",
    "    squared_errors = errors ** 2\n",
    "    mse = np.mean(squared_errors)\n",
    "    rmse = np.sqrt(mse)\n",
    "    return rmse\n",
    "\n",
    "def nlpd(Y_true, mu_pred, var_pred):\n",
    "    epsilon = 1e-10\n",
    "    var_pred = np.maximum(var_pred, epsilon)\n",
    "    \n",
    "    nlpd_values = 0.5 * np.log(2 * np.pi * var_pred) + ((Y_true - mu_pred) ** 2) / (2 * var_pred)\n",
    "    \n",
    "    return np.mean(nlpd_values)"
   ]
  },
  {
   "cell_type": "code",
   "execution_count": 3,
   "id": "22e9f617",
   "metadata": {},
   "outputs": [],
   "source": [
    "def uniform_outliers_c1(Y: np.ndarray, percent_outliers: float, start: float, end: float) -> np.ndarray:\n",
    "    if not (0 <= percent_outliers <= 1):\n",
    "        raise ValueError(\"percent_outliers must be between 0 and 1.\")\n",
    "    if start < 0 or end <= start:\n",
    "        raise ValueError(\"Invalid range: ensure 0 <= start < end.\")\n",
    "\n",
    "    Y_outliers = Y.copy()\n",
    "    N, D = Y.shape\n",
    "    total_elements = N \n",
    "    num_outliers = int(np.round(percent_outliers * total_elements))\n",
    "\n",
    "    row_indices = np.random.choice(N, num_outliers, replace=False)\n",
    "\n",
    "    signs = np.random.choice([-1, 1], size=num_outliers)\n",
    "\n",
    "    uniform_values = np.random.uniform(start, end, size=num_outliers) * signs\n",
    "\n",
    "    Y_outliers[row_indices, 0] += uniform_values\n",
    "\n",
    "    return Y_outliers\n",
    "\n",
    "def asymmetric_outliers_c1(Y: np.ndarray, percent_outliers: float, start: float, end: float) -> np.ndarray:\n",
    "    if not (0 <= percent_outliers <= 1):\n",
    "        raise ValueError(\"percent_outliers must be between 0 and 1.\")\n",
    "    if start < 0 or end <= start:\n",
    "        raise ValueError(\"Invalid range: ensure 0 <= start < end.\")\n",
    "    \n",
    "    Y_outliers = Y.copy()\n",
    "    N, D = Y.shape\n",
    "    total_elements = N \n",
    "    num_outliers = int(np.round(percent_outliers * total_elements))\n",
    "\n",
    "    row_indices = np.random.choice(N, num_outliers, replace=False)\n",
    "\n",
    "    uniform_values = np.random.uniform(start, end, size=num_outliers)\n",
    "\n",
    "    Y_outliers[row_indices, 0] += uniform_values\n",
    "\n",
    "    return Y_outliers\n",
    "\n",
    "def focused_outliers_c1(X, Y, percent_outliers, y_value, perturbation=0.1):\n",
    "    def mad(X):\n",
    "        medians = np.median(X, axis=0)\n",
    "        deviations = np.abs(X - medians)\n",
    "        return np.median(deviations, axis=0)\n",
    "\n",
    "    X = X.copy()\n",
    "    Y = Y.copy()\n",
    "\n",
    "    n_samples, n_features = X.shape\n",
    "    n_outliers = int(n_samples * percent_outliers)\n",
    "\n",
    "    # Indices of outliers\n",
    "    indices = np.random.choice(n_samples, size=n_outliers, replace=False)\n",
    "\n",
    "    medians_2d = np.tile(np.median(X, axis=0), (n_outliers, 1))\n",
    "\n",
    "    def mad(X, axis=0):\n",
    "        \"\"\"Compute Median Absolute Deviation (MAD)\"\"\"\n",
    "        med = np.median(X, axis=axis)\n",
    "        return np.median(np.abs(X - med), axis=axis)\n",
    "\n",
    "    mads = mad(X)\n",
    "    mads_2d = np.tile(mads, (n_outliers, 1))\n",
    "\n",
    "    u = np.random.uniform(0, perturbation, size=medians_2d.shape)\n",
    "    X_outliers = medians_2d + u * mads_2d\n",
    "\n",
    "    # Create a 1D array of size n_outliers with all elements = y_value\n",
    "    Y_outliers = np.full(shape=n_outliers, fill_value=y_value)\n",
    "\n",
    "    first_column = Y[:, 0]\n",
    "    median_y0 = np.median(first_column)\n",
    "    mad_y0 = np.median(np.abs(first_column - median_y0))\n",
    "    Y_mad_outliers = np.full(shape=n_outliers, fill_value=mad_y0)\n",
    "\n",
    "    # Draw u independently for each element\n",
    "    u = np.random.uniform(0, perturbation, size=Y_outliers.shape)\n",
    "\n",
    "    # Compute the perturbed Y_outliers\n",
    "    Y_outliers_perturbed = Y_outliers + u * Y_mad_outliers\n",
    "\n",
    "    # Replace rows in X at the outlier indices\n",
    "    X[indices, :] = X_outliers\n",
    "\n",
    "    # Replace the first column in Y at the outlier indices\n",
    "    Y[indices, 0] = Y_outliers_perturbed\n",
    "\n",
    "    return X, Y"
   ]
  },
  {
   "cell_type": "code",
   "execution_count": null,
   "id": "c5e5ec1c",
   "metadata": {},
   "outputs": [],
   "source": [
    "import numpy as np\n",
    "import matplotlib.pyplot as plt\n",
    "\n",
    "# Step 1: Generate a smooth dataset\n",
    "np.random.seed(42)  # for reproducibility\n",
    "n_samples = 100\n",
    "\n",
    "# X is 1D but we make it 2D (n_samples, 1)\n",
    "X = np.linspace(0, 10, n_samples).reshape(-1, 1)\n",
    "\n",
    "# Y depends smoothly on X, add some noise\n",
    "Y = np.sin(X) + 0.1 * np.random.randn(n_samples, 1)\n",
    "\n",
    "# Step 2: Introduce focused outliers using your function\n",
    "X_out, Y_out = focused_outliers_c1(X, Y, percent_outliers=0.1, y_value=5, perturbation=0.3)\n",
    "\n",
    "# Step 3: Plot the original and outlier dataset\n",
    "plt.figure(figsize=(10, 6))\n",
    "plt.scatter(X, Y, color='blue', label='Original Data')\n",
    "plt.scatter(X_out, Y_out, color='red', label='With Outliers')\n",
    "plt.xlabel('X')\n",
    "plt.ylabel('Y')\n",
    "plt.title('Original Dataset and Dataset with Focused Outliers')\n",
    "plt.legend()\n",
    "plt.show()"
   ]
  },
  {
   "cell_type": "code",
   "execution_count": 118,
   "id": "380ba98d",
   "metadata": {},
   "outputs": [
    {
     "name": "stdout",
     "output_type": "stream",
     "text": [
      "X shape: (100, 5)\n",
      "Y shape: (100, 1)\n",
      "X_out shape: (100, 5)\n",
      "Y_out shape: (100, 1)\n"
     ]
    }
   ],
   "source": [
    "np.random.seed(42) \n",
    "n_samples = 100 # Number of samples \n",
    "n_features = 5 # Number of features \n",
    "percent_outliers = 0.1 # 10% of samples are outliers \n",
    "y_value = 3 # Generate X as random numbers (normal distribution) \n",
    "X = np.random.randn(n_samples, n_features) # Generate Y as a linear combination of X plus some noise \n",
    "coefficients = np.random.randn(n_features) \n",
    "Y = X @ coefficients + 0.5 * np.random.randn(n_samples)\n",
    "Y = Y.reshape(-1,1)\n",
    "\n",
    "print('X shape:', X.shape)\n",
    "print('Y shape:', Y.shape)\n",
    "\n",
    "X_out, Y_out = focused_outliers_c1(X, Y, 0.1, 5, perturbation=0.1)\n",
    "print('X_out shape:', X_out.shape)\n",
    "print('Y_out shape:', Y_out.shape)"
   ]
  },
  {
   "cell_type": "code",
   "execution_count": 4,
   "id": "8ab569a5",
   "metadata": {},
   "outputs": [],
   "source": [
    "def make_X_multi(X, D=2):\n",
    "    \"\"\"\n",
    "    X: shape (N, input_dim) - multi-dimensional input\n",
    "    D: number of tasks\n",
    "    \"\"\"\n",
    "    N, input_dim = X.shape\n",
    "    X_multi = []\n",
    "    \n",
    "    for task in range(D):\n",
    "        # Add task index as last column\n",
    "        X_task = np.hstack([X, np.full((N, 1), task)])\n",
    "        X_multi.append(X_task)\n",
    "    \n",
    "    return np.vstack(X_multi)  # Shape: (N*D, input_dim + 1)"
   ]
  },
  {
   "cell_type": "code",
   "execution_count": 5,
   "id": "c32ac7dc",
   "metadata": {},
   "outputs": [],
   "source": [
    "def run_MOGP(X_train_scaled, Y_train_scaled, X_test_scaled, Y_test_scaled):\n",
    "\n",
    "    start_total = time.time()\n",
    "\n",
    "    # --- 1. Prepare multi-task inputs ---\n",
    "    X_multi_train = make_X_multi(X_train_scaled, D=2)\n",
    "    X_multi_test = make_X_multi(X_test_scaled, D=2)\n",
    "    Y_multi_train = Y_train_scaled.reshape(-1, 1, order='F')\n",
    "    Y_multi_test = Y_test_scaled.reshape(-1, 1, order='F')\n",
    "\n",
    "    input_dim = X_train_scaled.shape[1]  # number of features\n",
    "    D = 2  # number of tasks\n",
    "\n",
    "    # --- 2. Define kernel ---\n",
    "    base_kernel = gpflow.kernels.RBF(\n",
    "        lengthscales=1.0,\n",
    "        variance=0.1,\n",
    "        active_dims=list(range(input_dim))\n",
    "    )\n",
    "\n",
    "    coregion_kernel = gpflow.kernels.Coregion(\n",
    "        output_dim=D,\n",
    "        rank=D,\n",
    "        active_dims=[input_dim]\n",
    "    )\n",
    "\n",
    "    # Fix the diagonal of coregion kernel\n",
    "    gpflow.utilities.set_trainable(coregion_kernel.kappa, False)\n",
    "    coregion_kernel.kappa.assign(tf.ones_like(coregion_kernel.kappa) * 1e-6)\n",
    "\n",
    "    # Combine kernels\n",
    "    kernel = base_kernel * coregion_kernel\n",
    "\n",
    "    # --- 3. Build exact GP model ---\n",
    "    model_gpr = gpflow.models.GPR(\n",
    "        data=(X_multi_train, Y_multi_train),\n",
    "        kernel=kernel,\n",
    "        mean_function=None\n",
    "    )\n",
    "\n",
    "    # Optionally, you can fix the base kernel variance as before\n",
    "    gpflow.utilities.set_trainable(base_kernel.variance, False)\n",
    "\n",
    "    # --- 4. Optimize hyperparameters ---\n",
    "    opt = Scipy()\n",
    "\n",
    "    def objective_closure_gpr():\n",
    "        return -model_gpr.log_marginal_likelihood()\n",
    "    try:\n",
    "        opt.minimize(objective_closure_gpr, model_gpr.trainable_variables, options=dict(maxiter=1000))\n",
    "    except Exception as e:\n",
    "        print(f\"Optimization failed: {e}\")\n",
    "        print(\"Try reducing maxiter or checking data shapes\")\n",
    "\n",
    "    # --- 5. Predict on test data ---\n",
    "    mean_pred_mogp, var_pred_mogp = model_gpr.predict_y(X_multi_test)\n",
    "    mu_mogp, std_mogp = mean_pred_mogp.numpy().reshape(-1, D, order='F'), np.sqrt(var_pred_mogp.numpy()).reshape(-1, D, order='F')\n",
    "\n",
    "    end_total = time.time()\n",
    "    time_mogp = end_total - start_total\n",
    "\n",
    "    rmse_mogp = calculate_rmse(Y_test_scaled, mu_mogp.reshape(-1, D, order='F'))\n",
    "    nlpd_mogp = nlpd(Y_test_scaled, mu_mogp.reshape(-1, D, order='F'), std_mogp.reshape(-1, D, order='F')**2)\n",
    "    \n",
    "    return rmse_mogp, nlpd_mogp, time_mogp\n",
    "\n",
    "\n",
    "def run_MORCGP(X_train_scaled, Y_train_scaled, X_test_scaled, Y_test_scaled, prop_outliers, k=1):\n",
    "    # Measure total time\n",
    "    start_total = time.time()\n",
    "\n",
    "    mcd = MinCovDet(support_fraction=1-prop_outliers).fit(Y_train_scaled)\n",
    "    robust_covariance = mcd.covariance_\n",
    "    robust_init_A = np.linalg.cholesky(robust_covariance)\n",
    "\n",
    "    morcgp = MORCGP_shared_noise(mean=0, length_scale=1, noise_var=0.1, A=robust_init_A)\n",
    "    morcgp.fit(X_train_scaled, Y_train_scaled, epsilons=np.array([prop_outliers, 0]))\n",
    "    morcgp.optimize_loo_cv(print_opt_param=False, print_iter_objective=False, k=k, init_cov=robust_covariance, fix_weights=True)\n",
    "\n",
    "    mu_morcgp, var_morcgp = morcgp.predict(X_test_scaled)\n",
    "    std_morcgp = np.sqrt(var_morcgp + morcgp.noise_var)\n",
    "    end_total = time.time()\n",
    "\n",
    "    time_morcgp = end_total - start_total\n",
    "    rmse_morcgp = calculate_rmse(Y_test_scaled, mu_morcgp)\n",
    "    nlpd_morcgp = nlpd(Y_test_scaled, mu_morcgp, std_morcgp**2)\n",
    "\n",
    "    return rmse_morcgp, nlpd_morcgp, time_morcgp\n",
    "\n",
    "def run_tMOGP(X_train_scaled, Y_train_scaled, X_test_scaled, Y_test_scaled, df):\n",
    "    # Create multi-task inputs\n",
    "    X_multi_train = make_X_multi(X_train_scaled, D=2)\n",
    "    X_multi_test = make_X_multi(X_test_scaled, D=2)\n",
    "    Y_multi_train = Y_train_scaled.reshape(-1, 1, order='F')\n",
    "    Y_multi_test = Y_test_scaled.reshape(-1, 1, order='F')\n",
    "\n",
    "    input_dim = X_train_scaled.shape[1]  # This is the key fix!\n",
    "    N = X_train_scaled.shape[0]\n",
    "    D = 2\n",
    "\n",
    "    start_total = time.time()\n",
    "\n",
    "    base_kernel = gpflow.kernels.RBF(\n",
    "        lengthscales=1.0, \n",
    "        variance=0.1, \n",
    "        active_dims=list(range(input_dim)) ,\n",
    "    )\n",
    "\n",
    "    coregion_kernel = gpflow.kernels.Coregion(\n",
    "        output_dim=D, \n",
    "        rank=D, \n",
    "        active_dims=[input_dim]  \n",
    "    )\n",
    "\n",
    "    gpflow.utilities.set_trainable(base_kernel.variance, False)\n",
    "\n",
    "    gpflow.utilities.set_trainable(coregion_kernel.kappa, False)\n",
    "    coregion_kernel.kappa.assign(tf.ones_like(coregion_kernel.kappa) * 1e-6)\n",
    "\n",
    "    kernel = base_kernel * coregion_kernel\n",
    "\n",
    "    likelihood_vgp = gpflow.likelihoods.StudentT(df=df)\n",
    "    # gpflow.utilities.set_trainable(likelihood_vgp.scale, False)\n",
    "    model_vgp = gpflow.models.VGP(\n",
    "        data=(X_multi_train, Y_multi_train),\n",
    "        kernel=kernel,\n",
    "        likelihood=likelihood_vgp\n",
    "    )\n",
    "\n",
    "    opt = Scipy()\n",
    "    def objective_closure_vgp():\n",
    "        return -model_vgp.maximum_log_likelihood_objective()\n",
    "\n",
    "    try:\n",
    "        opt.minimize(objective_closure_vgp, model_vgp.trainable_variables, options=dict(maxiter=1000))\n",
    "    except Exception as e:\n",
    "        print(f\"Optimization failed: {e}\")\n",
    "        print(\"Try reducing maxiter or checking data shapes\")\n",
    "\n",
    "    mean_pred_tmogp, var_pred_tmogp = model_vgp.predict_y(X_multi_test)\n",
    "    mu_tmogp, std_tmogp = mean_pred_tmogp.numpy().reshape(-1, D, order='F'), np.sqrt(var_pred_tmogp.numpy()).reshape(-1, D, order='F')\n",
    "    end_total = time.time()\n",
    "\n",
    "    time_tmogp = end_total - start_total\n",
    "    rmse_tmogp = calculate_rmse(Y_test_scaled, mu_tmogp.reshape(-1, D, order='F'))\n",
    "    nlpd_tmogp = nlpd(Y_test_scaled, mu_tmogp.reshape(-1, D, order='F'), std_tmogp.reshape(-1, D, order='F')**2)\n",
    "    \n",
    "    return rmse_tmogp, nlpd_tmogp, time_tmogp"
   ]
  },
  {
   "cell_type": "code",
   "execution_count": 6,
   "id": "e90ecc66",
   "metadata": {},
   "outputs": [],
   "source": [
    "def run_MOGP_numpy(X_train_scaled, Y_train_scaled, X_test_scaled, Y_test_scaled, prop_outliers):\n",
    "\n",
    "    # Measure total time\n",
    "    start_total = time.time()\n",
    "\n",
    "    mcd = MinCovDet(support_fraction=1-prop_outliers).fit(Y_train_scaled)\n",
    "    robust_covariance = mcd.covariance_\n",
    "    robust_init_A = np.linalg.cholesky(robust_covariance)\n",
    "\n",
    "    mogp = MOGPRegressor_NC(mean = 0, length_scale=1, noise = 0.1, A=robust_init_A)\n",
    "    mogp.fit(X_train_scaled, Y_train_scaled)\n",
    "    mogp.optimize_hyperparameters()\n",
    "\n",
    "    mu_mogp, var_mogp = mogp.predict(X_test_scaled)\n",
    "    std_mogp = np.sqrt(var_mogp + mogp.noise)\n",
    "    end_total = time.time()\n",
    "\n",
    "    time_mogp = end_total - start_total\n",
    "    rmse_mogp = calculate_rmse(Y_test_scaled, mu_mogp)\n",
    "    nlpd_mogp = nlpd(Y_test_scaled, mu_mogp, std_mogp**2)\n",
    "\n",
    "    return rmse_mogp, nlpd_mogp, time_mogp\n"
   ]
  },
  {
   "cell_type": "code",
   "execution_count": 7,
   "id": "0c8674a8",
   "metadata": {},
   "outputs": [],
   "source": [
    "# URL of the dataset\n",
    "url = 'https://archive.ics.uci.edu/ml/machine-learning-databases/00242/ENB2012_data.xlsx'\n",
    "\n",
    "# Read Excel file directly from the URL\n",
    "df = pd.read_excel(url)\n",
    "\n",
    "# Extract covariates X (columns X1 to X8)\n",
    "X = df.loc[:, 'X1':'X8'].to_numpy()\n",
    "\n",
    "# Extract target variables Y (columns Y1 and Y2)\n",
    "Y = df.loc[:, ['Y1', 'Y2']].to_numpy()"
   ]
  },
  {
   "cell_type": "markdown",
   "id": "66e4b9d3",
   "metadata": {},
   "source": [
    "# No outliers"
   ]
  },
  {
   "cell_type": "code",
   "execution_count": 55,
   "id": "f04b45cf",
   "metadata": {},
   "outputs": [
    {
     "name": "stdout",
     "output_type": "stream",
     "text": [
      "X_train shape: (576, 8)\n",
      "X_test shape: (192, 8)\n",
      "Y_train shape: (576, 2)\n",
      "Y_test shape: (192, 2)\n"
     ]
    }
   ],
   "source": [
    "# Split data into train and test sets (default test size = 25%)\n",
    "X_train, X_test, Y_train, Y_test = train_test_split(\n",
    "    X, Y, test_size=0.25, random_state=42\n",
    ")\n",
    "\n",
    "scaler_X = StandardScaler()\n",
    "X_train_scaled = scaler_X.fit_transform(X_train)\n",
    "X_test_scaled = scaler_X.transform(X_test)\n",
    "\n",
    "scaler_Y = StandardScaler()\n",
    "Y_train_scaled = scaler_Y.fit_transform(Y_train)\n",
    "Y_test_scaled = scaler_Y.transform(Y_test)\n",
    "\n",
    "print(\"X_train shape:\", X_train_scaled.shape)\n",
    "print(\"X_test shape:\", X_test_scaled.shape)\n",
    "print(\"Y_train shape:\", Y_train_scaled.shape)\n",
    "print(\"Y_test shape:\", Y_test_scaled.shape)"
   ]
  },
  {
   "cell_type": "code",
   "execution_count": null,
   "id": "af867311",
   "metadata": {},
   "outputs": [
    {
     "name": "stderr",
     "output_type": "stream",
     "text": [
      "  5%|▌         | 1/20 [02:38<50:02, 158.00s/it]"
     ]
    },
    {
     "name": "stdout",
     "output_type": "stream",
     "text": [
      "No outliers: MOGP seed 0: RMSE = 0.11764126905016717, NLPD = -0.7841519965588765, Time = 158.00338864326477\n"
     ]
    }
   ],
   "source": [
    "rmses_mogp, rmses_morcgp, rmses_tmogp = [], [], []\n",
    "nlpds_mogp, nlpds_morcgp, nlpds_tmogp = [], [], []\n",
    "times_mogp, times_morcgp, times_tmogp = [], [], []\n",
    "\n",
    "prop_outliers = 0\n",
    "num_seeds = 20\n",
    "\n",
    "run_mogp = True\n",
    "run_morcgp = False\n",
    "run_tmogp = False\n",
    "\n",
    "for i in tqdm(range(num_seeds)):\n",
    "    # Split data into train and test sets (default test size = 25%)\n",
    "    X_train, X_test, Y_train, Y_test = train_test_split(\n",
    "        X, Y, test_size=0.25, random_state=i\n",
    "    )\n",
    "\n",
    "    scaler_X = StandardScaler()\n",
    "    X_train_scaled = scaler_X.fit_transform(X_train)\n",
    "    X_test_scaled = scaler_X.transform(X_test)\n",
    "\n",
    "    scaler_Y = StandardScaler()\n",
    "    Y_train_scaled = scaler_Y.fit_transform(Y_train)\n",
    "    Y_test_scaled = scaler_Y.transform(Y_test)\n",
    "\n",
    "    if run_mogp:\n",
    "        rmse_mogp, nlpd_mogp, time_mogp = run_MOGP_numpy(X_train_scaled, Y_train_scaled, X_test_scaled, Y_test_scaled, prop_outliers=prop_outliers)\n",
    "        print(f'No outliers: MOGP seed {i}: RMSE = {rmse_mogp}, NLPD = {nlpd_mogp}, Time = {time_mogp}')\n",
    "        rmses_mogp.append(rmse_mogp)\n",
    "        nlpds_mogp.append(nlpd_mogp)\n",
    "        times_mogp.append(time_mogp)\n",
    "    if run_morcgp:\n",
    "        rmse_morcgp, nlpd_morcgp, time_morcgp = run_MORCGP(X_train_scaled, Y_train_scaled, X_test_scaled, Y_test_scaled, prop_outliers=prop_outliers, k=2)\n",
    "        rmses_morcgp.append(rmse_morcgp)\n",
    "        nlpds_morcgp.append(nlpd_morcgp)\n",
    "        times_morcgp.append(time_morcgp)\n",
    "    if run_tmogp:\n",
    "        rmse_tmogp, nlpd_tmogp, time_tmogp = run_tMOGP(X_train_scaled, Y_train_scaled, X_test_scaled, Y_test_scaled, df=10)\n",
    "        print(f'No outliers: t-MOGP seed {i}: RMSE = {rmse_tmogp}, NLPD = {nlpd_tmogp}, Time = {time_tmogp}')\n",
    "        rmses_tmogp.append(rmse_tmogp)\n",
    "        nlpds_tmogp.append(nlpd_tmogp)\n",
    "        times_tmogp.append(time_tmogp)\n",
    "\n",
    "if run_mogp:\n",
    "    print(\"RMSE:\", \", \".join(f\"{x:.4f}\" for x in rmses_mogp))\n",
    "    print(\"NLPD:\", \", \".join(f\"{x:.4f}\" for x in nlpds_mogp))\n",
    "    print(\"Time:\", \", \".join(f\"{x:.4f}\" for x in times_mogp))\n",
    "    print(f'RMSE MOGP: {np.mean(rmses_mogp):.4f} ± {np.std(rmses_mogp):.4f}')\n",
    "    print(f'NLPD MOGP: {np.mean(nlpds_mogp):.4f} ± {np.std(nlpds_mogp):.4f}')\n",
    "    print(f'Time MOGP: {np.mean(times_mogp):.4f} ± {np.std(times_mogp):.4f}')\n",
    "\n",
    "if run_morcgp:\n",
    "    print(f'RMSE MORCGP: {np.mean(rmses_morcgp):.4f} ± {np.std(rmses_morcgp):.4f}')\n",
    "    print(f'NLPD MORCGP: {np.mean(nlpds_morcgp):.4f} ± {np.std(nlpds_morcgp):.4f}')\n",
    "    print(f'Time MORCGP: {np.mean(times_morcgp):.4f} ± {np.std(times_morcgp):.4f}')\n",
    "\n",
    "if run_tmogp:\n",
    "    print(\"RMSE:\", \", \".join(f\"{x:.4f}\" for x in rmses_tmogp))\n",
    "    print(\"NLPD:\", \", \".join(f\"{x:.4f}\" for x in nlpds_tmogp))\n",
    "    print(\"Time:\", \", \".join(f\"{x:.4f}\" for x in times_tmogp))\n",
    "    print(f'RMSE t-MOGP: {np.mean(rmses_tmogp):.4f} ± {np.std(rmses_tmogp):.4f}')\n",
    "    print(f'NLPD t-MOGP: {np.mean(nlpds_tmogp):.4f} ± {np.std(nlpds_tmogp):.4f}')\n",
    "    print(f'Time t-MOGP: {np.mean(times_tmogp):.4f} ± {np.std(times_tmogp):.4f}')"
   ]
  },
  {
   "cell_type": "code",
   "execution_count": null,
   "id": "8d9eab0e",
   "metadata": {},
   "outputs": [],
   "source": []
  },
  {
   "cell_type": "markdown",
   "id": "8d1d493a",
   "metadata": {},
   "source": [
    "# Uniform outliers"
   ]
  },
  {
   "cell_type": "code",
   "execution_count": null,
   "id": "4b21f5a8",
   "metadata": {},
   "outputs": [
    {
     "name": "stderr",
     "output_type": "stream",
     "text": [
      "  5%|▌         | 1/20 [05:19<1:41:06, 319.27s/it]"
     ]
    },
    {
     "name": "stdout",
     "output_type": "stream",
     "text": [
      "Uniform outliers: t-MOGP seed 0: RMSE = 0.16046423477245877, NLPD = -0.19587417636046048, Time = 319.26712107658386\n"
     ]
    },
    {
     "name": "stderr",
     "output_type": "stream",
     "text": [
      " 10%|█         | 2/20 [10:44<1:36:50, 322.79s/it]"
     ]
    },
    {
     "name": "stdout",
     "output_type": "stream",
     "text": [
      "Uniform outliers: t-MOGP seed 1: RMSE = 0.18169544708796684, NLPD = -0.15461373976985493, Time = 325.2557153701782\n"
     ]
    },
    {
     "name": "stderr",
     "output_type": "stream",
     "text": [
      " 15%|█▌        | 3/20 [16:23<1:33:31, 330.06s/it]"
     ]
    },
    {
     "name": "stdout",
     "output_type": "stream",
     "text": [
      "Uniform outliers: t-MOGP seed 2: RMSE = 0.1670191217701907, NLPD = -0.193453972583591, Time = 338.71628046035767\n"
     ]
    },
    {
     "name": "stderr",
     "output_type": "stream",
     "text": [
      " 20%|██        | 4/20 [21:57<1:28:26, 331.68s/it]"
     ]
    },
    {
     "name": "stdout",
     "output_type": "stream",
     "text": [
      "Uniform outliers: t-MOGP seed 3: RMSE = 0.1551287069745665, NLPD = -0.20255872378566578, Time = 334.16786074638367\n"
     ]
    },
    {
     "name": "stderr",
     "output_type": "stream",
     "text": [
      " 25%|██▌       | 5/20 [27:30<1:23:02, 332.16s/it]"
     ]
    },
    {
     "name": "stdout",
     "output_type": "stream",
     "text": [
      "Uniform outliers: t-MOGP seed 4: RMSE = 0.14433529112092974, NLPD = -0.2321454055852291, Time = 333.0067844390869\n"
     ]
    },
    {
     "name": "stderr",
     "output_type": "stream",
     "text": [
      " 30%|███       | 6/20 [33:07<1:17:54, 333.91s/it]"
     ]
    },
    {
     "name": "stdout",
     "output_type": "stream",
     "text": [
      "Uniform outliers: t-MOGP seed 5: RMSE = 0.15651104973572963, NLPD = -0.20483856766756717, Time = 337.28333282470703\n"
     ]
    },
    {
     "name": "stderr",
     "output_type": "stream",
     "text": [
      " 35%|███▌      | 7/20 [38:42<1:12:22, 334.03s/it]"
     ]
    },
    {
     "name": "stdout",
     "output_type": "stream",
     "text": [
      "Uniform outliers: t-MOGP seed 6: RMSE = 0.1660717040002731, NLPD = -0.20368355420485393, Time = 334.301744222641\n"
     ]
    },
    {
     "name": "stderr",
     "output_type": "stream",
     "text": [
      " 40%|████      | 8/20 [44:13<1:06:39, 333.31s/it]"
     ]
    },
    {
     "name": "stdout",
     "output_type": "stream",
     "text": [
      "Uniform outliers: t-MOGP seed 7: RMSE = 0.16133149580994577, NLPD = -0.19834573097481326, Time = 331.7658154964447\n"
     ]
    },
    {
     "name": "stderr",
     "output_type": "stream",
     "text": [
      " 45%|████▌     | 9/20 [49:50<1:01:18, 334.44s/it]"
     ]
    },
    {
     "name": "stdout",
     "output_type": "stream",
     "text": [
      "Uniform outliers: t-MOGP seed 8: RMSE = 0.16389321077233227, NLPD = -0.1776032497659946, Time = 336.93428802490234\n"
     ]
    },
    {
     "name": "stderr",
     "output_type": "stream",
     "text": [
      " 50%|█████     | 10/20 [55:27<55:51, 335.18s/it] "
     ]
    },
    {
     "name": "stdout",
     "output_type": "stream",
     "text": [
      "Uniform outliers: t-MOGP seed 9: RMSE = 0.16552643655124014, NLPD = -0.19621299118977112, Time = 336.81599259376526\n"
     ]
    },
    {
     "name": "stderr",
     "output_type": "stream",
     "text": [
      " 55%|█████▌    | 11/20 [1:00:59<50:08, 334.23s/it]"
     ]
    },
    {
     "name": "stdout",
     "output_type": "stream",
     "text": [
      "Uniform outliers: t-MOGP seed 10: RMSE = 0.14972170103071591, NLPD = -0.2168111549002698, Time = 332.07683515548706\n"
     ]
    },
    {
     "name": "stderr",
     "output_type": "stream",
     "text": [
      " 60%|██████    | 12/20 [1:06:25<44:14, 331.83s/it]"
     ]
    },
    {
     "name": "stdout",
     "output_type": "stream",
     "text": [
      "Uniform outliers: t-MOGP seed 11: RMSE = 0.15575365592008436, NLPD = -0.21925368700120593, Time = 326.333708524704\n"
     ]
    },
    {
     "name": "stderr",
     "output_type": "stream",
     "text": [
      " 65%|██████▌   | 13/20 [1:12:02<38:53, 333.34s/it]"
     ]
    },
    {
     "name": "stdout",
     "output_type": "stream",
     "text": [
      "Uniform outliers: t-MOGP seed 12: RMSE = 0.16668539976508512, NLPD = -0.19028203493013432, Time = 336.80171728134155\n"
     ]
    },
    {
     "name": "stderr",
     "output_type": "stream",
     "text": [
      " 70%|███████   | 14/20 [1:17:36<33:20, 333.44s/it]"
     ]
    },
    {
     "name": "stdout",
     "output_type": "stream",
     "text": [
      "Uniform outliers: t-MOGP seed 13: RMSE = 0.15292915899550327, NLPD = -0.2138099136338459, Time = 333.6870172023773\n"
     ]
    },
    {
     "name": "stderr",
     "output_type": "stream",
     "text": [
      " 75%|███████▌  | 15/20 [1:23:11<27:50, 334.07s/it]"
     ]
    },
    {
     "name": "stdout",
     "output_type": "stream",
     "text": [
      "Uniform outliers: t-MOGP seed 14: RMSE = 0.14327585233240553, NLPD = -0.23267053873668134, Time = 335.5295424461365\n"
     ]
    },
    {
     "name": "stderr",
     "output_type": "stream",
     "text": [
      " 80%|████████  | 16/20 [1:28:43<22:12, 333.17s/it]"
     ]
    },
    {
     "name": "stdout",
     "output_type": "stream",
     "text": [
      "Uniform outliers: t-MOGP seed 15: RMSE = 0.1824531359294169, NLPD = -0.1625948848600273, Time = 331.0837371349335\n"
     ]
    },
    {
     "name": "stderr",
     "output_type": "stream",
     "text": [
      " 85%|████████▌ | 17/20 [1:34:13<16:37, 332.41s/it]"
     ]
    },
    {
     "name": "stdout",
     "output_type": "stream",
     "text": [
      "Uniform outliers: t-MOGP seed 16: RMSE = 0.1543115920918446, NLPD = -0.2026589857405748, Time = 330.65034008026123\n"
     ]
    },
    {
     "name": "stderr",
     "output_type": "stream",
     "text": [
      " 90%|█████████ | 18/20 [1:39:46<11:04, 332.40s/it]"
     ]
    },
    {
     "name": "stdout",
     "output_type": "stream",
     "text": [
      "Uniform outliers: t-MOGP seed 17: RMSE = 0.1531524648707857, NLPD = -0.22131697847621903, Time = 332.3805992603302\n"
     ]
    },
    {
     "name": "stderr",
     "output_type": "stream",
     "text": [
      " 95%|█████████▌| 19/20 [1:45:25<05:34, 334.54s/it]"
     ]
    },
    {
     "name": "stdout",
     "output_type": "stream",
     "text": [
      "Uniform outliers: t-MOGP seed 18: RMSE = 0.1652400049353904, NLPD = -0.17567344686906675, Time = 339.50209760665894\n"
     ]
    },
    {
     "name": "stderr",
     "output_type": "stream",
     "text": [
      "100%|██████████| 20/20 [1:51:04<00:00, 333.23s/it]"
     ]
    },
    {
     "name": "stdout",
     "output_type": "stream",
     "text": [
      "Uniform outliers: t-MOGP seed 19: RMSE = 0.1537309242943694, NLPD = -0.1942909020157757, Time = 339.0015666484833\n",
      "RMSE: 0.1605, 0.1817, 0.1670, 0.1551, 0.1443, 0.1565, 0.1661, 0.1613, 0.1639, 0.1655, 0.1497, 0.1558, 0.1667, 0.1529, 0.1433, 0.1825, 0.1543, 0.1532, 0.1652, 0.1537\n",
      "NLPD: -0.1959, -0.1546, -0.1935, -0.2026, -0.2321, -0.2048, -0.2037, -0.1983, -0.1776, -0.1962, -0.2168, -0.2193, -0.1903, -0.2138, -0.2327, -0.1626, -0.2027, -0.2213, -0.1757, -0.1943\n",
      "Time: 319.2671, 325.2557, 338.7163, 334.1679, 333.0068, 337.2833, 334.3017, 331.7658, 336.9343, 336.8160, 332.0768, 326.3337, 336.8017, 333.6870, 335.5295, 331.0837, 330.6503, 332.3806, 339.5021, 339.0016\n",
      "RMSE t-MOGP: 0.1600 ± 0.0101\n",
      "NLPD t-MOGP: -0.1994 ± 0.0202\n",
      "Time t-MOGP: 333.2281 ± 4.9379\n"
     ]
    },
    {
     "name": "stderr",
     "output_type": "stream",
     "text": [
      "\n"
     ]
    }
   ],
   "source": [
    "rmses_mogp, rmses_morcgp, rmses_tmogp = [], [], []\n",
    "nlpds_mogp, nlpds_morcgp, nlpds_tmogp = [], [], []\n",
    "times_mogp, times_morcgp, times_tmogp = [], [], []\n",
    "\n",
    "prop_outliers = 0.1\n",
    "num_seeds = 20\n",
    "\n",
    "run_mogp = False\n",
    "run_morcgp = False\n",
    "run_tmogp = True\n",
    "\n",
    "for i in tqdm(range(num_seeds)):\n",
    "    # Split data into train and test sets (default test size = 25%)\n",
    "    X_train, X_test, Y_train, Y_test = train_test_split(\n",
    "        X, Y, test_size=0.25, random_state=i\n",
    "    )\n",
    "\n",
    "    scaler_X = StandardScaler()\n",
    "    X_train_scaled = scaler_X.fit_transform(X_train)\n",
    "    X_test_scaled = scaler_X.transform(X_test)\n",
    "\n",
    "    scaler_Y = StandardScaler()\n",
    "    Y_train_scaled = scaler_Y.fit_transform(Y_train)\n",
    "    Y_test_scaled = scaler_Y.transform(Y_test)\n",
    "\n",
    "    Y_train_scaled = uniform_outliers_c1(Y=Y_train_scaled, percent_outliers=prop_outliers, start=6, end=9)\n",
    "\n",
    "    if run_mogp:\n",
    "        rmse_mogp, nlpd_mogp, time_mogp = run_MOGP_numpy(X_train_scaled, Y_train_scaled, X_test_scaled, Y_test_scaled, prop_outliers=prop_outliers)\n",
    "        print(f'Uniform outliers: MOGP seed {i}: RMSE = {rmse_mogp}, NLPD = {nlpd_mogp}, Time = {time_mogp}')\n",
    "        rmses_mogp.append(rmse_mogp)\n",
    "        nlpds_mogp.append(nlpd_mogp)\n",
    "        times_mogp.append(time_mogp)\n",
    "    if run_morcgp:\n",
    "        rmse_morcgp, nlpd_morcgp, time_morcgp = run_MORCGP(X_train_scaled, Y_train_scaled, X_test_scaled, Y_test_scaled, prop_outliers=prop_outliers, k=2)\n",
    "        rmses_morcgp.append(rmse_morcgp)\n",
    "        nlpds_morcgp.append(nlpd_morcgp)\n",
    "        times_morcgp.append(time_morcgp)\n",
    "    if run_tmogp:\n",
    "        rmse_tmogp, nlpd_tmogp, time_tmogp = run_tMOGP(X_train_scaled, Y_train_scaled, X_test_scaled, Y_test_scaled, df=10)\n",
    "        print(f'Uniform outliers: t-MOGP seed {i}: RMSE = {rmse_tmogp}, NLPD = {nlpd_tmogp}, Time = {time_tmogp}')\n",
    "        rmses_tmogp.append(rmse_tmogp)\n",
    "        nlpds_tmogp.append(nlpd_tmogp)\n",
    "        times_tmogp.append(time_tmogp)\n",
    "\n",
    "if run_mogp:\n",
    "    print(\"RMSE:\", \", \".join(f\"{x:.4f}\" for x in rmses_mogp))\n",
    "    print(\"NLPD:\", \", \".join(f\"{x:.4f}\" for x in nlpds_mogp))\n",
    "    print(\"Time:\", \", \".join(f\"{x:.4f}\" for x in times_mogp))\n",
    "    print(f'RMSE MOGP: {np.mean(rmses_mogp):.4f} ± {np.std(rmses_mogp):.4f}')\n",
    "    print(f'NLPD MOGP: {np.mean(nlpds_mogp):.4f} ± {np.std(nlpds_mogp):.4f}')\n",
    "    print(f'Time MOGP: {np.mean(times_mogp):.4f} ± {np.std(times_mogp):.4f}')\n",
    "\n",
    "if run_morcgp:\n",
    "    print(f'RMSE MORCGP: {np.mean(rmses_morcgp):.4f} ± {np.std(rmses_morcgp):.4f}')\n",
    "    print(f'NLPD MORCGP: {np.mean(nlpds_morcgp):.4f} ± {np.std(nlpds_morcgp):.4f}')\n",
    "    print(f'Time MORCGP: {np.mean(times_morcgp):.4f} ± {np.std(times_morcgp):.4f}')\n",
    "\n",
    "if run_tmogp:\n",
    "    print(\"RMSE:\", \", \".join(f\"{x:.4f}\" for x in rmses_tmogp))\n",
    "    print(\"NLPD:\", \", \".join(f\"{x:.4f}\" for x in nlpds_tmogp))\n",
    "    print(\"Time:\", \", \".join(f\"{x:.4f}\" for x in times_tmogp))\n",
    "    print(f'RMSE t-MOGP: {np.mean(rmses_tmogp):.4f} ± {np.std(rmses_tmogp):.4f}')\n",
    "    print(f'NLPD t-MOGP: {np.mean(nlpds_tmogp):.4f} ± {np.std(nlpds_tmogp):.4f}')\n",
    "    print(f'Time t-MOGP: {np.mean(times_tmogp):.4f} ± {np.std(times_tmogp):.4f}')"
   ]
  },
  {
   "cell_type": "markdown",
   "id": "bb66bed1",
   "metadata": {},
   "source": [
    "# Asymmetric outliers"
   ]
  },
  {
   "cell_type": "code",
   "execution_count": null,
   "id": "14e796e2",
   "metadata": {},
   "outputs": [
    {
     "name": "stderr",
     "output_type": "stream",
     "text": [
      "100%|██████████| 1/1 [01:55<00:00, 115.55s/it]"
     ]
    },
    {
     "name": "stdout",
     "output_type": "stream",
     "text": [
      "Asymmetric outliers: t-MOGP seed 0: RMSE = 0.2961992591670887, NLPD = 0.5697941383085201, Time = 115.55044722557068\n",
      "RMSE: 0.2962\n",
      "NLPD: 0.5698\n",
      "Time: 115.5504\n",
      "RMSE t-MOGP: 0.2962 ± 0.0000\n",
      "NLPD t-MOGP: 0.5698 ± 0.0000\n",
      "Time t-MOGP: 115.5504 ± 0.0000\n"
     ]
    },
    {
     "name": "stderr",
     "output_type": "stream",
     "text": [
      "\n"
     ]
    }
   ],
   "source": [
    "rmses_mogp, rmses_morcgp, rmses_tmogp = [], [], []\n",
    "nlpds_mogp, nlpds_morcgp, nlpds_tmogp = [], [], []\n",
    "times_mogp, times_morcgp, times_tmogp = [], [], []\n",
    "\n",
    "prop_outliers = 0.1\n",
    "num_seeds = 1\n",
    "\n",
    "run_mogp = False\n",
    "run_morcgp = False\n",
    "run_tmogp = True\n",
    "\n",
    "for i in tqdm(range(num_seeds)):\n",
    "    # Split data into train and test sets (default test size = 25%)\n",
    "    X_train, X_test, Y_train, Y_test = train_test_split(\n",
    "        X, Y, test_size=0.25, random_state=i\n",
    "    )\n",
    "    np.random.seed(i)\n",
    "\n",
    "    scaler_X = StandardScaler()\n",
    "    X_train_scaled = scaler_X.fit_transform(X_train)\n",
    "    X_test_scaled = scaler_X.transform(X_test)\n",
    "\n",
    "    scaler_Y = StandardScaler()\n",
    "    Y_train_scaled = scaler_Y.fit_transform(Y_train)\n",
    "    Y_test_scaled = scaler_Y.transform(Y_test)\n",
    "\n",
    "    Y_train_scaled = asymmetric_outliers_c1(Y=Y_train_scaled, percent_outliers=prop_outliers, start=3, end=9)\n",
    "\n",
    "    if run_mogp:\n",
    "        rmse_mogp, nlpd_mogp, time_mogp = run_MOGP_numpy(X_train_scaled, Y_train_scaled, X_test_scaled, Y_test_scaled, prop_outliers=prop_outliers)\n",
    "        print(f'Asymmetric outliers: MOGP seed {i}: RMSE = {rmse_mogp}, NLPD = {nlpd_mogp}, Time = {time_mogp}')\n",
    "        rmses_mogp.append(rmse_mogp)\n",
    "        nlpds_mogp.append(nlpd_mogp)\n",
    "        times_mogp.append(time_mogp)\n",
    "    if run_morcgp:\n",
    "        rmse_morcgp, nlpd_morcgp, time_morcgp = run_MORCGP(X_train_scaled, Y_train_scaled, X_test_scaled, Y_test_scaled, prop_outliers=prop_outliers, k=2)\n",
    "        rmses_morcgp.append(rmse_morcgp)\n",
    "        nlpds_morcgp.append(nlpd_morcgp)\n",
    "        times_morcgp.append(time_morcgp)\n",
    "    if run_tmogp:\n",
    "        rmse_tmogp, nlpd_tmogp, time_tmogp = run_tMOGP(X_train_scaled, Y_train_scaled, X_test_scaled, Y_test_scaled, df=10)\n",
    "        print(f'Asymmetric outliers: t-MOGP seed {i}: RMSE = {rmse_tmogp}, NLPD = {nlpd_tmogp}, Time = {time_tmogp}')\n",
    "        rmses_tmogp.append(rmse_tmogp)\n",
    "        nlpds_tmogp.append(nlpd_tmogp)\n",
    "        times_tmogp.append(time_tmogp)\n",
    "\n",
    "if run_mogp:\n",
    "    print(\"RMSE:\", \", \".join(f\"{x:.4f}\" for x in rmses_mogp))\n",
    "    print(\"NLPD:\", \", \".join(f\"{x:.4f}\" for x in nlpds_mogp))\n",
    "    print(\"Time:\", \", \".join(f\"{x:.4f}\" for x in times_mogp))\n",
    "    print(f'RMSE MOGP: {np.mean(rmses_mogp):.4f} ± {np.std(rmses_mogp):.4f}')\n",
    "    print(f'NLPD MOGP: {np.mean(nlpds_mogp):.4f} ± {np.std(nlpds_mogp):.4f}')\n",
    "    print(f'Time MOGP: {np.mean(times_mogp):.4f} ± {np.std(times_mogp):.4f}')\n",
    "\n",
    "if run_morcgp:\n",
    "    print(f'RMSE MORCGP: {np.mean(rmses_morcgp):.4f} ± {np.std(rmses_morcgp):.4f}')\n",
    "    print(f'NLPD MORCGP: {np.mean(nlpds_morcgp):.4f} ± {np.std(nlpds_morcgp):.4f}')\n",
    "    print(f'Time MORCGP: {np.mean(times_morcgp):.4f} ± {np.std(times_morcgp):.4f}')\n",
    "\n",
    "if run_tmogp:\n",
    "    print(\"RMSE:\", \", \".join(f\"{x:.4f}\" for x in rmses_tmogp))\n",
    "    print(\"NLPD:\", \", \".join(f\"{x:.4f}\" for x in nlpds_tmogp))\n",
    "    print(\"Time:\", \", \".join(f\"{x:.4f}\" for x in times_tmogp))\n",
    "    print(f'RMSE t-MOGP: {np.mean(rmses_tmogp):.4f} ± {np.std(rmses_tmogp):.4f}')\n",
    "    print(f'NLPD t-MOGP: {np.mean(nlpds_tmogp):.4f} ± {np.std(nlpds_tmogp):.4f}')\n",
    "    print(f'Time t-MOGP: {np.mean(times_tmogp):.4f} ± {np.std(times_tmogp):.4f}')"
   ]
  },
  {
   "cell_type": "code",
   "execution_count": 99,
   "id": "34ecf120",
   "metadata": {},
   "outputs": [
    {
     "name": "stdout",
     "output_type": "stream",
     "text": [
      "[[0.94723653 0.90867649]\n",
      " [0.90867649 0.90533608]]\n",
      "Optimized length_scale: 1.1465\n",
      "Optimized noise_var: 0.030009044314197594\n",
      "Optimized A: [[ 1.26725414 -0.10627154]\n",
      " [ 0.99090882  0.28129842]]\n",
      "Optimized B: \n",
      "[[1.61722669 1.22583928]\n",
      " [1.22583928 1.06102909]]\n",
      "Total runtime: 59.0478 seconds\n"
     ]
    }
   ],
   "source": [
    "# Measure total time\n",
    "start_total = time.time()\n",
    "\n",
    "prop_outliers = 0.1\n",
    "\n",
    "mcd = MinCovDet(support_fraction=1-prop_outliers).fit(Y_train_scaled)\n",
    "robust_covariance = mcd.covariance_\n",
    "print(robust_covariance)\n",
    "robust_init_A = np.linalg.cholesky(robust_covariance)\n",
    "\n",
    "morcgp = MORCGP_shared_noise(mean=0, length_scale=1, noise_var=0.1, A=robust_init_A)\n",
    "morcgp.fit(X_train_scaled, Y_train_scaled, epsilons=np.array([prop_outliers, 0]))\n",
    "init_gamma, init_c, gamma, c = morcgp.optimize_loo_cv(print_opt_param=True, print_iter_objective=False, k=2, init_cov=robust_covariance, fix_weights=True)\n",
    "\n",
    "mu_morcgp, var_morcgp = morcgp.predict(X_test_scaled)\n",
    "std_morcgp = np.sqrt(var_morcgp + morcgp.noise_var)\n",
    "\n",
    "end_total = time.time()\n",
    "print(f\"Total runtime: {end_total - start_total:.4f} seconds\")"
   ]
  },
  {
   "cell_type": "code",
   "execution_count": 100,
   "id": "0c61e83a",
   "metadata": {},
   "outputs": [
    {
     "name": "stdout",
     "output_type": "stream",
     "text": [
      "RMSE MORCGP: 0.15972676319172377\n",
      "NLPD MORCGP: -0.1996795777671061\n"
     ]
    }
   ],
   "source": [
    "rmse_morcgp = calculate_rmse(Y_test_scaled, mu_morcgp)\n",
    "\n",
    "print(\"RMSE MORCGP:\", rmse_morcgp)\n",
    "\n",
    "nlpd_morcgp = nlpd(Y_test_scaled, mu_morcgp, std_morcgp**2)\n",
    "\n",
    "print(\"NLPD MORCGP:\", nlpd_morcgp)"
   ]
  },
  {
   "cell_type": "markdown",
   "id": "24022cf5",
   "metadata": {},
   "source": [
    "# Focused outliers"
   ]
  },
  {
   "cell_type": "code",
   "execution_count": null,
   "id": "0ac57997",
   "metadata": {},
   "outputs": [
    {
     "name": "stderr",
     "output_type": "stream",
     "text": [
      "  5%|▌         | 1/20 [05:31<1:45:00, 331.59s/it]"
     ]
    },
    {
     "name": "stdout",
     "output_type": "stream",
     "text": [
      "Focused outliers: t-MOGP seed 0: RMSE = 0.18238100502401008, NLPD = -0.10871702885997836, Time = 331.59401679039\n"
     ]
    },
    {
     "name": "stderr",
     "output_type": "stream",
     "text": [
      " 10%|█         | 2/20 [11:07<1:40:12, 334.01s/it]"
     ]
    },
    {
     "name": "stdout",
     "output_type": "stream",
     "text": [
      "Focused outliers: t-MOGP seed 1: RMSE = 0.2899976926245902, NLPD = 0.3274582337074868, Time = 335.6956226825714\n"
     ]
    },
    {
     "name": "stderr",
     "output_type": "stream",
     "text": [
      " 15%|█▌        | 3/20 [16:43<1:34:52, 334.84s/it]"
     ]
    },
    {
     "name": "stdout",
     "output_type": "stream",
     "text": [
      "Focused outliers: t-MOGP seed 2: RMSE = 0.22890229840069673, NLPD = 0.034181934887956206, Time = 335.8170235157013\n"
     ]
    },
    {
     "name": "stderr",
     "output_type": "stream",
     "text": [
      " 20%|██        | 4/20 [22:17<1:29:15, 334.74s/it]"
     ]
    },
    {
     "name": "stdout",
     "output_type": "stream",
     "text": [
      "Focused outliers: t-MOGP seed 3: RMSE = 0.19482610156083394, NLPD = -0.0656043131119932, Time = 334.58404755592346\n"
     ]
    },
    {
     "name": "stderr",
     "output_type": "stream",
     "text": [
      " 25%|██▌       | 5/20 [27:44<1:22:59, 332.00s/it]"
     ]
    },
    {
     "name": "stdout",
     "output_type": "stream",
     "text": [
      "Focused outliers: t-MOGP seed 4: RMSE = 0.17868894573179037, NLPD = -0.05071253329423427, Time = 327.1401779651642\n"
     ]
    },
    {
     "name": "stderr",
     "output_type": "stream",
     "text": [
      " 30%|███       | 6/20 [33:19<1:17:39, 332.80s/it]"
     ]
    },
    {
     "name": "stdout",
     "output_type": "stream",
     "text": [
      "Focused outliers: t-MOGP seed 5: RMSE = 0.2003460587414216, NLPD = 0.029682326790368422, Time = 334.3425076007843\n"
     ]
    },
    {
     "name": "stderr",
     "output_type": "stream",
     "text": [
      " 35%|███▌      | 7/20 [38:55<1:12:22, 334.06s/it]"
     ]
    },
    {
     "name": "stdout",
     "output_type": "stream",
     "text": [
      "Focused outliers: t-MOGP seed 6: RMSE = 0.18904617642243343, NLPD = -0.108629372525187, Time = 336.647696018219\n"
     ]
    },
    {
     "name": "stderr",
     "output_type": "stream",
     "text": [
      " 40%|████      | 8/20 [44:22<1:06:19, 331.65s/it]"
     ]
    },
    {
     "name": "stdout",
     "output_type": "stream",
     "text": [
      "Focused outliers: t-MOGP seed 7: RMSE = 0.23231910969819233, NLPD = 0.12212516707218828, Time = 326.48794865608215\n"
     ]
    },
    {
     "name": "stderr",
     "output_type": "stream",
     "text": [
      " 45%|████▌     | 9/20 [50:04<1:01:23, 334.85s/it]"
     ]
    },
    {
     "name": "stdout",
     "output_type": "stream",
     "text": [
      "Focused outliers: t-MOGP seed 8: RMSE = 0.29382333371260816, NLPD = 0.31485396359174495, Time = 341.8680913448334\n"
     ]
    },
    {
     "name": "stderr",
     "output_type": "stream",
     "text": [
      " 50%|█████     | 10/20 [55:31<55:24, 332.46s/it] "
     ]
    },
    {
     "name": "stdout",
     "output_type": "stream",
     "text": [
      "Focused outliers: t-MOGP seed 9: RMSE = 0.2016329235173583, NLPD = -0.008614309758651031, Time = 327.10135102272034\n"
     ]
    },
    {
     "name": "stderr",
     "output_type": "stream",
     "text": [
      " 55%|█████▌    | 11/20 [1:00:55<49:28, 329.82s/it]"
     ]
    },
    {
     "name": "stdout",
     "output_type": "stream",
     "text": [
      "Focused outliers: t-MOGP seed 10: RMSE = 0.18537647958206493, NLPD = -0.03270702760039907, Time = 323.85032081604004\n"
     ]
    },
    {
     "name": "stderr",
     "output_type": "stream",
     "text": [
      " 60%|██████    | 12/20 [1:06:30<44:11, 331.43s/it]"
     ]
    },
    {
     "name": "stdout",
     "output_type": "stream",
     "text": [
      "Focused outliers: t-MOGP seed 11: RMSE = 0.18488609148280596, NLPD = -0.12117266698218256, Time = 335.0999584197998\n"
     ]
    },
    {
     "name": "stderr",
     "output_type": "stream",
     "text": [
      " 65%|██████▌   | 13/20 [1:12:11<38:59, 334.26s/it]"
     ]
    },
    {
     "name": "stdout",
     "output_type": "stream",
     "text": [
      "Focused outliers: t-MOGP seed 12: RMSE = 0.21478170368888777, NLPD = 0.0555955284138955, Time = 340.75965332984924\n"
     ]
    },
    {
     "name": "stderr",
     "output_type": "stream",
     "text": [
      " 70%|███████   | 14/20 [1:14:38<27:46, 277.75s/it]"
     ]
    },
    {
     "name": "stdout",
     "output_type": "stream",
     "text": [
      "Focused outliers: t-MOGP seed 13: RMSE = 0.23943352105980018, NLPD = 0.300792549932667, Time = 147.1593623161316\n"
     ]
    },
    {
     "name": "stderr",
     "output_type": "stream",
     "text": [
      " 75%|███████▌  | 15/20 [1:20:10<24:30, 294.05s/it]"
     ]
    },
    {
     "name": "stdout",
     "output_type": "stream",
     "text": [
      "Focused outliers: t-MOGP seed 14: RMSE = 0.17967001777181435, NLPD = -0.04736703640005272, Time = 331.8168122768402\n"
     ]
    },
    {
     "name": "stderr",
     "output_type": "stream",
     "text": [
      " 80%|████████  | 16/20 [1:25:42<20:22, 305.54s/it]"
     ]
    },
    {
     "name": "stdout",
     "output_type": "stream",
     "text": [
      "Focused outliers: t-MOGP seed 15: RMSE = 0.20658470421328293, NLPD = -0.10670307796532415, Time = 332.2172751426697\n"
     ]
    },
    {
     "name": "stderr",
     "output_type": "stream",
     "text": [
      " 85%|████████▌ | 17/20 [1:31:12<15:38, 312.92s/it]"
     ]
    },
    {
     "name": "stdout",
     "output_type": "stream",
     "text": [
      "Focused outliers: t-MOGP seed 16: RMSE = 0.20586815547777454, NLPD = 0.07513202312684197, Time = 330.1042242050171\n"
     ]
    },
    {
     "name": "stderr",
     "output_type": "stream",
     "text": [
      " 90%|█████████ | 18/20 [1:36:41<10:35, 317.66s/it]"
     ]
    },
    {
     "name": "stdout",
     "output_type": "stream",
     "text": [
      "Focused outliers: t-MOGP seed 17: RMSE = 0.1566333514791599, NLPD = -0.24120210381100401, Time = 328.67982602119446\n"
     ]
    },
    {
     "name": "stderr",
     "output_type": "stream",
     "text": [
      " 95%|█████████▌| 19/20 [1:42:06<05:19, 319.87s/it]"
     ]
    },
    {
     "name": "stdout",
     "output_type": "stream",
     "text": [
      "Focused outliers: t-MOGP seed 18: RMSE = 0.17591460729423594, NLPD = -0.08627920083673139, Time = 325.0340495109558\n"
     ]
    },
    {
     "name": "stderr",
     "output_type": "stream",
     "text": [
      "100%|██████████| 20/20 [1:47:47<00:00, 323.37s/it]"
     ]
    },
    {
     "name": "stdout",
     "output_type": "stream",
     "text": [
      "Focused outliers: t-MOGP seed 19: RMSE = 0.20563994706808092, NLPD = -0.022529247601039682, Time = 341.2397840023041\n",
      "RMSE: 0.1824, 0.2900, 0.2289, 0.1948, 0.1787, 0.2003, 0.1890, 0.2323, 0.2938, 0.2016, 0.1854, 0.1849, 0.2148, 0.2394, 0.1797, 0.2066, 0.2059, 0.1566, 0.1759, 0.2056\n",
      "NLPD: -0.1087, 0.3275, 0.0342, -0.0656, -0.0507, 0.0297, -0.1086, 0.1221, 0.3149, -0.0086, -0.0327, -0.1212, 0.0556, 0.3008, -0.0474, -0.1067, 0.0751, -0.2412, -0.0863, -0.0225\n",
      "Time: 331.5940, 335.6956, 335.8170, 334.5840, 327.1402, 334.3425, 336.6477, 326.4879, 341.8681, 327.1014, 323.8503, 335.1000, 340.7597, 147.1594, 331.8168, 332.2173, 330.1042, 328.6798, 325.0340, 341.2398\n",
      "RMSE t-MOGP: 0.2073 ± 0.0345\n",
      "NLPD t-MOGP: 0.0130 ± 0.1492\n",
      "Time t-MOGP: 323.3620 ± 40.7509\n"
     ]
    },
    {
     "name": "stderr",
     "output_type": "stream",
     "text": [
      "\n"
     ]
    }
   ],
   "source": [
    "rmses_mogp, rmses_morcgp, rmses_tmogp = [], [], []\n",
    "nlpds_mogp, nlpds_morcgp, nlpds_tmogp = [], [], []\n",
    "times_mogp, times_morcgp, times_tmogp = [], [], []\n",
    "\n",
    "prop_outliers = 0.1\n",
    "num_seeds = 20\n",
    "\n",
    "run_mogp = False\n",
    "run_morcgp = False\n",
    "run_tmogp = True\n",
    "\n",
    "for i in tqdm(range(num_seeds)):\n",
    "    # Split data into train and test sets (default test size = 25%)\n",
    "    X_train, X_test, Y_train, Y_test = train_test_split(\n",
    "        X, Y, test_size=0.25, random_state=i\n",
    "    )\n",
    "\n",
    "    scaler_X = StandardScaler()\n",
    "    X_train_scaled = scaler_X.fit_transform(X_train)\n",
    "    X_test_scaled = scaler_X.transform(X_test)\n",
    "\n",
    "    scaler_Y = StandardScaler()\n",
    "    Y_train_scaled = scaler_Y.fit_transform(Y_train)\n",
    "    Y_test_scaled = scaler_Y.transform(Y_test)\n",
    "\n",
    "    X_train_scaled, Y_train_scaled = focused_outliers_c1(X=X_train_scaled, Y=Y_train_scaled, percent_outliers=prop_outliers, y_value=6, perturbation=0.1)\n",
    "\n",
    "    if run_mogp:\n",
    "        rmse_mogp, nlpd_mogp, time_mogp = run_MOGP(X_train_scaled, Y_train_scaled, X_test_scaled, Y_test_scaled, prop_outliers=prop_outliers)\n",
    "        print(f'Focused outliers: MOGP seed {i}: RMSE = {rmse_mogp}, NLPD = {nlpd_mogp}, Time = {time_mogp}')\n",
    "        rmses_mogp.append(rmse_mogp)\n",
    "        nlpds_mogp.append(nlpd_mogp)\n",
    "        times_mogp.append(time_mogp)\n",
    "    if run_morcgp:\n",
    "        rmse_morcgp, nlpd_morcgp, time_morcgp = run_MORCGP(X_train_scaled, Y_train_scaled, X_test_scaled, Y_test_scaled, prop_outliers=prop_outliers, k=2)\n",
    "        rmses_morcgp.append(rmse_morcgp)\n",
    "        nlpds_morcgp.append(nlpd_morcgp)\n",
    "        times_morcgp.append(time_morcgp)\n",
    "    if run_tmogp:\n",
    "        rmse_tmogp, nlpd_tmogp, time_tmogp = run_tMOGP(X_train_scaled, Y_train_scaled, X_test_scaled, Y_test_scaled, df=9)\n",
    "        print(f'Focused outliers: t-MOGP seed {i}: RMSE = {rmse_tmogp}, NLPD = {nlpd_tmogp}, Time = {time_tmogp}')\n",
    "        rmses_tmogp.append(rmse_tmogp)\n",
    "        nlpds_tmogp.append(nlpd_tmogp)\n",
    "        times_tmogp.append(time_tmogp)\n",
    "\n",
    "if run_mogp:\n",
    "    print(\"RMSE:\", \", \".join(f\"{x:.4f}\" for x in rmses_mogp))\n",
    "    print(\"NLPD:\", \", \".join(f\"{x:.4f}\" for x in nlpds_mogp))\n",
    "    print(\"Time:\", \", \".join(f\"{x:.4f}\" for x in times_mogp))\n",
    "    print(f'RMSE MOGP: {np.mean(rmses_mogp):.4f} ± {np.std(rmses_mogp):.4f}')\n",
    "    print(f'NLPD MOGP: {np.mean(nlpds_mogp):.4f} ± {np.std(nlpds_mogp):.4f}')\n",
    "    print(f'Time MOGP: {np.mean(times_mogp):.4f} ± {np.std(times_mogp):.4f}')\n",
    "\n",
    "if run_morcgp:\n",
    "    print(f'RMSE MORCGP: {np.mean(rmses_morcgp):.4f} ± {np.std(rmses_morcgp):.4f}')\n",
    "    print(f'NLPD MORCGP: {np.mean(nlpds_morcgp):.4f} ± {np.std(nlpds_morcgp):.4f}')\n",
    "    print(f'Time MORCGP: {np.mean(times_morcgp):.4f} ± {np.std(times_morcgp):.4f}')\n",
    "\n",
    "if run_tmogp:\n",
    "    print(\"RMSE:\", \", \".join(f\"{x:.4f}\" for x in rmses_tmogp))\n",
    "    print(\"NLPD:\", \", \".join(f\"{x:.4f}\" for x in nlpds_tmogp))\n",
    "    print(\"Time:\", \", \".join(f\"{x:.4f}\" for x in times_tmogp))\n",
    "    print(f'RMSE t-MOGP: {np.mean(rmses_tmogp):.4f} ± {np.std(rmses_tmogp):.4f}')\n",
    "    print(f'NLPD t-MOGP: {np.mean(nlpds_tmogp):.4f} ± {np.std(nlpds_tmogp):.4f}')\n",
    "    print(f'Time t-MOGP: {np.mean(times_tmogp):.4f} ± {np.std(times_tmogp):.4f}')"
   ]
  }
 ],
 "metadata": {
  "kernelspec": {
   "display_name": "Python 3",
   "language": "python",
   "name": "python3"
  },
  "language_info": {
   "codemirror_mode": {
    "name": "ipython",
    "version": 3
   },
   "file_extension": ".py",
   "mimetype": "text/x-python",
   "name": "python",
   "nbconvert_exporter": "python",
   "pygments_lexer": "ipython3",
   "version": "3.12.4"
  }
 },
 "nbformat": 4,
 "nbformat_minor": 5
}
