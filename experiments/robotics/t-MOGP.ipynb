{
 "cells": [
  {
   "cell_type": "code",
   "execution_count": 81,
   "id": "8314f714",
   "metadata": {},
   "outputs": [],
   "source": [
    "import math\n",
    "import torch\n",
    "import gpytorch\n",
    "from matplotlib import pyplot as plt\n",
    "import numpy as np"
   ]
  },
  {
   "cell_type": "markdown",
   "id": "a907fc09",
   "metadata": {},
   "source": [
    "# GP t-distribution"
   ]
  },
  {
   "cell_type": "code",
   "execution_count": 14,
   "id": "a3669c66",
   "metadata": {},
   "outputs": [],
   "source": [
    "train_x = torch.linspace(0, 1, 10)\n",
    "train_y = torch.sin(2 * math.pi * train_x)"
   ]
  },
  {
   "cell_type": "code",
   "execution_count": 35,
   "id": "c20b639a",
   "metadata": {},
   "outputs": [
    {
     "name": "stdout",
     "output_type": "stream",
     "text": [
      "Epoch 100/500  −  Loss: 0.938\n",
      "Epoch 200/500  −  Loss: 0.886\n",
      "Epoch 300/500  −  Loss: 0.884\n",
      "Epoch 400/500  −  Loss: 0.884\n",
      "Epoch 500/500  −  Loss: 0.884\n",
      "mean: torch.Size([10, 200])\n"
     ]
    },
    {
     "ename": "ValueError",
     "evalue": "x and y must have same first dimension, but have shapes (200,) and (10, 200)",
     "output_type": "error",
     "traceback": [
      "\u001b[31m---------------------------------------------------------------------------\u001b[39m",
      "\u001b[31mValueError\u001b[39m                                Traceback (most recent call last)",
      "\u001b[36mCell\u001b[39m\u001b[36m \u001b[39m\u001b[32mIn[35]\u001b[39m\u001b[32m, line 71\u001b[39m\n\u001b[32m     69\u001b[39m plt.figure(figsize=(\u001b[32m8\u001b[39m, \u001b[32m4\u001b[39m))\n\u001b[32m     70\u001b[39m plt.plot(train_x.numpy(), train_y.numpy(), \u001b[33m\"\u001b[39m\u001b[33mk*\u001b[39m\u001b[33m\"\u001b[39m, label=\u001b[33m\"\u001b[39m\u001b[33mTrain datapoints\u001b[39m\u001b[33m\"\u001b[39m)\n\u001b[32m---> \u001b[39m\u001b[32m71\u001b[39m \u001b[43mplt\u001b[49m\u001b[43m.\u001b[49m\u001b[43mplot\u001b[49m\u001b[43m(\u001b[49m\u001b[43mtest_x\u001b[49m\u001b[43m.\u001b[49m\u001b[43mnumpy\u001b[49m\u001b[43m(\u001b[49m\u001b[43m)\u001b[49m\u001b[43m,\u001b[49m\u001b[43m \u001b[49m\u001b[43mmean\u001b[49m\u001b[43m.\u001b[49m\u001b[43mnumpy\u001b[49m\u001b[43m(\u001b[49m\u001b[43m)\u001b[49m\u001b[43m,\u001b[49m\u001b[43m \u001b[49m\u001b[43mlabel\u001b[49m\u001b[43m=\u001b[49m\u001b[33;43m\"\u001b[39;49m\u001b[33;43mPredictive mean\u001b[39;49m\u001b[33;43m\"\u001b[39;49m\u001b[43m)\u001b[49m\n\u001b[32m     72\u001b[39m plt.fill_between(mean.numpy(),\n\u001b[32m     73\u001b[39m                  mean.numpy() + \u001b[32m2\u001b[39m*std.numpy(),\n\u001b[32m     74\u001b[39m                  mean.numpy() - \u001b[32m2\u001b[39m*std.numpy(),\n\u001b[32m     75\u001b[39m                  alpha=\u001b[32m0.3\u001b[39m,\n\u001b[32m     76\u001b[39m                  label=\u001b[33m\"\u001b[39m\u001b[33m95\u001b[39m\u001b[38;5;132;01m% c\u001b[39;00m\u001b[33mred. band\u001b[39m\u001b[33m\"\u001b[39m)\n\u001b[32m     77\u001b[39m plt.legend(); plt.title(\u001b[33m\"\u001b[39m\u001b[33mApproximate GP with Student‑T likelihood\u001b[39m\u001b[33m\"\u001b[39m)\n",
      "\u001b[36mFile \u001b[39m\u001b[32mc:\\Users\\joshu\\AppData\\Local\\Programs\\Python\\Python312\\Lib\\site-packages\\matplotlib\\pyplot.py:3838\u001b[39m, in \u001b[36mplot\u001b[39m\u001b[34m(scalex, scaley, data, *args, **kwargs)\u001b[39m\n\u001b[32m   3830\u001b[39m \u001b[38;5;129m@_copy_docstring_and_deprecators\u001b[39m(Axes.plot)\n\u001b[32m   3831\u001b[39m \u001b[38;5;28;01mdef\u001b[39;00m\u001b[38;5;250m \u001b[39m\u001b[34mplot\u001b[39m(\n\u001b[32m   3832\u001b[39m     *args: \u001b[38;5;28mfloat\u001b[39m | ArrayLike | \u001b[38;5;28mstr\u001b[39m,\n\u001b[32m   (...)\u001b[39m\u001b[32m   3836\u001b[39m     **kwargs,\n\u001b[32m   3837\u001b[39m ) -> \u001b[38;5;28mlist\u001b[39m[Line2D]:\n\u001b[32m-> \u001b[39m\u001b[32m3838\u001b[39m     \u001b[38;5;28;01mreturn\u001b[39;00m \u001b[43mgca\u001b[49m\u001b[43m(\u001b[49m\u001b[43m)\u001b[49m\u001b[43m.\u001b[49m\u001b[43mplot\u001b[49m\u001b[43m(\u001b[49m\n\u001b[32m   3839\u001b[39m \u001b[43m        \u001b[49m\u001b[43m*\u001b[49m\u001b[43margs\u001b[49m\u001b[43m,\u001b[49m\n\u001b[32m   3840\u001b[39m \u001b[43m        \u001b[49m\u001b[43mscalex\u001b[49m\u001b[43m=\u001b[49m\u001b[43mscalex\u001b[49m\u001b[43m,\u001b[49m\n\u001b[32m   3841\u001b[39m \u001b[43m        \u001b[49m\u001b[43mscaley\u001b[49m\u001b[43m=\u001b[49m\u001b[43mscaley\u001b[49m\u001b[43m,\u001b[49m\n\u001b[32m   3842\u001b[39m \u001b[43m        \u001b[49m\u001b[43m*\u001b[49m\u001b[43m*\u001b[49m\u001b[43m(\u001b[49m\u001b[43m{\u001b[49m\u001b[33;43m\"\u001b[39;49m\u001b[33;43mdata\u001b[39;49m\u001b[33;43m\"\u001b[39;49m\u001b[43m:\u001b[49m\u001b[43m \u001b[49m\u001b[43mdata\u001b[49m\u001b[43m}\u001b[49m\u001b[43m \u001b[49m\u001b[38;5;28;43;01mif\u001b[39;49;00m\u001b[43m \u001b[49m\u001b[43mdata\u001b[49m\u001b[43m \u001b[49m\u001b[38;5;129;43;01mis\u001b[39;49;00m\u001b[43m \u001b[49m\u001b[38;5;129;43;01mnot\u001b[39;49;00m\u001b[43m \u001b[49m\u001b[38;5;28;43;01mNone\u001b[39;49;00m\u001b[43m \u001b[49m\u001b[38;5;28;43;01melse\u001b[39;49;00m\u001b[43m \u001b[49m\u001b[43m{\u001b[49m\u001b[43m}\u001b[49m\u001b[43m)\u001b[49m\u001b[43m,\u001b[49m\n\u001b[32m   3843\u001b[39m \u001b[43m        \u001b[49m\u001b[43m*\u001b[49m\u001b[43m*\u001b[49m\u001b[43mkwargs\u001b[49m\u001b[43m,\u001b[49m\n\u001b[32m   3844\u001b[39m \u001b[43m    \u001b[49m\u001b[43m)\u001b[49m\n",
      "\u001b[36mFile \u001b[39m\u001b[32mc:\\Users\\joshu\\AppData\\Local\\Programs\\Python\\Python312\\Lib\\site-packages\\matplotlib\\axes\\_axes.py:1777\u001b[39m, in \u001b[36mAxes.plot\u001b[39m\u001b[34m(self, scalex, scaley, data, *args, **kwargs)\u001b[39m\n\u001b[32m   1534\u001b[39m \u001b[38;5;250m\u001b[39m\u001b[33;03m\"\"\"\u001b[39;00m\n\u001b[32m   1535\u001b[39m \u001b[33;03mPlot y versus x as lines and/or markers.\u001b[39;00m\n\u001b[32m   1536\u001b[39m \n\u001b[32m   (...)\u001b[39m\u001b[32m   1774\u001b[39m \u001b[33;03m(``'green'``) or hex strings (``'#008000'``).\u001b[39;00m\n\u001b[32m   1775\u001b[39m \u001b[33;03m\"\"\"\u001b[39;00m\n\u001b[32m   1776\u001b[39m kwargs = cbook.normalize_kwargs(kwargs, mlines.Line2D)\n\u001b[32m-> \u001b[39m\u001b[32m1777\u001b[39m lines = [*\u001b[38;5;28mself\u001b[39m._get_lines(\u001b[38;5;28mself\u001b[39m, *args, data=data, **kwargs)]\n\u001b[32m   1778\u001b[39m \u001b[38;5;28;01mfor\u001b[39;00m line \u001b[38;5;129;01min\u001b[39;00m lines:\n\u001b[32m   1779\u001b[39m     \u001b[38;5;28mself\u001b[39m.add_line(line)\n",
      "\u001b[36mFile \u001b[39m\u001b[32mc:\\Users\\joshu\\AppData\\Local\\Programs\\Python\\Python312\\Lib\\site-packages\\matplotlib\\axes\\_base.py:297\u001b[39m, in \u001b[36m_process_plot_var_args.__call__\u001b[39m\u001b[34m(self, axes, data, return_kwargs, *args, **kwargs)\u001b[39m\n\u001b[32m    295\u001b[39m     this += args[\u001b[32m0\u001b[39m],\n\u001b[32m    296\u001b[39m     args = args[\u001b[32m1\u001b[39m:]\n\u001b[32m--> \u001b[39m\u001b[32m297\u001b[39m \u001b[38;5;28;01myield from\u001b[39;00m \u001b[38;5;28;43mself\u001b[39;49m\u001b[43m.\u001b[49m\u001b[43m_plot_args\u001b[49m\u001b[43m(\u001b[49m\n\u001b[32m    298\u001b[39m \u001b[43m    \u001b[49m\u001b[43maxes\u001b[49m\u001b[43m,\u001b[49m\u001b[43m \u001b[49m\u001b[43mthis\u001b[49m\u001b[43m,\u001b[49m\u001b[43m \u001b[49m\u001b[43mkwargs\u001b[49m\u001b[43m,\u001b[49m\u001b[43m \u001b[49m\u001b[43mambiguous_fmt_datakey\u001b[49m\u001b[43m=\u001b[49m\u001b[43mambiguous_fmt_datakey\u001b[49m\u001b[43m,\u001b[49m\n\u001b[32m    299\u001b[39m \u001b[43m    \u001b[49m\u001b[43mreturn_kwargs\u001b[49m\u001b[43m=\u001b[49m\u001b[43mreturn_kwargs\u001b[49m\n\u001b[32m    300\u001b[39m \u001b[43m\u001b[49m\u001b[43m)\u001b[49m\n",
      "\u001b[36mFile \u001b[39m\u001b[32mc:\\Users\\joshu\\AppData\\Local\\Programs\\Python\\Python312\\Lib\\site-packages\\matplotlib\\axes\\_base.py:494\u001b[39m, in \u001b[36m_process_plot_var_args._plot_args\u001b[39m\u001b[34m(self, axes, tup, kwargs, return_kwargs, ambiguous_fmt_datakey)\u001b[39m\n\u001b[32m    491\u001b[39m     axes.yaxis.update_units(y)\n\u001b[32m    493\u001b[39m \u001b[38;5;28;01mif\u001b[39;00m x.shape[\u001b[32m0\u001b[39m] != y.shape[\u001b[32m0\u001b[39m]:\n\u001b[32m--> \u001b[39m\u001b[32m494\u001b[39m     \u001b[38;5;28;01mraise\u001b[39;00m \u001b[38;5;167;01mValueError\u001b[39;00m(\u001b[33mf\u001b[39m\u001b[33m\"\u001b[39m\u001b[33mx and y must have same first dimension, but \u001b[39m\u001b[33m\"\u001b[39m\n\u001b[32m    495\u001b[39m                      \u001b[33mf\u001b[39m\u001b[33m\"\u001b[39m\u001b[33mhave shapes \u001b[39m\u001b[38;5;132;01m{\u001b[39;00mx.shape\u001b[38;5;132;01m}\u001b[39;00m\u001b[33m and \u001b[39m\u001b[38;5;132;01m{\u001b[39;00my.shape\u001b[38;5;132;01m}\u001b[39;00m\u001b[33m\"\u001b[39m)\n\u001b[32m    496\u001b[39m \u001b[38;5;28;01mif\u001b[39;00m x.ndim > \u001b[32m2\u001b[39m \u001b[38;5;129;01mor\u001b[39;00m y.ndim > \u001b[32m2\u001b[39m:\n\u001b[32m    497\u001b[39m     \u001b[38;5;28;01mraise\u001b[39;00m \u001b[38;5;167;01mValueError\u001b[39;00m(\u001b[33mf\u001b[39m\u001b[33m\"\u001b[39m\u001b[33mx and y can be no greater than 2D, but have \u001b[39m\u001b[33m\"\u001b[39m\n\u001b[32m    498\u001b[39m                      \u001b[33mf\u001b[39m\u001b[33m\"\u001b[39m\u001b[33mshapes \u001b[39m\u001b[38;5;132;01m{\u001b[39;00mx.shape\u001b[38;5;132;01m}\u001b[39;00m\u001b[33m and \u001b[39m\u001b[38;5;132;01m{\u001b[39;00my.shape\u001b[38;5;132;01m}\u001b[39;00m\u001b[33m\"\u001b[39m)\n",
      "\u001b[31mValueError\u001b[39m: x and y must have same first dimension, but have shapes (200,) and (10, 200)"
     ]
    },
    {
     "data": {
      "image/png": "[encoded data removed]",
      "text/plain": [
       "<Figure size 800x400 with 1 Axes>"
      ]
     },
     "metadata": {},
     "output_type": "display_data"
    }
   ],
   "source": [
    "import torch\n",
    "import gpytorch\n",
    "from matplotlib import pyplot as plt\n",
    "\n",
    "# ---- 1.  Fake training data --------------------------------------------------\n",
    "train_x = torch.linspace(0, 1, 100)\n",
    "train_y = torch.sin(train_x * (2 * torch.pi)) + 0.2 * torch.randn_like(train_x)\n",
    "\n",
    "# ---- 2.  Model definition ----------------------------------------------------\n",
    "class GPModel(gpytorch.models.ApproximateGP):\n",
    "    def __init__(self, inducing_points):\n",
    "        # 2a. Variational objects\n",
    "        variational_distribution = gpytorch.variational.CholeskyVariationalDistribution(\n",
    "            inducing_points.size(0)\n",
    "        )\n",
    "        variational_strategy = gpytorch.variational.VariationalStrategy(\n",
    "            self,\n",
    "            inducing_points,\n",
    "            variational_distribution,\n",
    "            learn_inducing_locations=True,\n",
    "        )\n",
    "        super().__init__(variational_strategy)\n",
    "\n",
    "        # 2b. Mean & covariance modules\n",
    "        self.mean_module = gpytorch.means.ConstantMean()\n",
    "        self.covar_module = gpytorch.kernels.ScaleKernel(\n",
    "            gpytorch.kernels.RBFKernel()\n",
    "        )\n",
    "\n",
    "    def forward(self, x):\n",
    "        mean_x = self.mean_module(x)\n",
    "        covar_x = self.covar_module(x)\n",
    "        return gpytorch.distributions.MultivariateNormal(mean_x, covar_x)\n",
    "\n",
    "# ---- 3.  Likelihood & model instances ---------------------------------------\n",
    "likelihood = gpytorch.likelihoods.StudentTLikelihood()   # ν = degrees of freedom\n",
    "inducing_points = train_x[::5]  # pick 20 inducing points, shape (20, 1)\n",
    "model = GPModel(inducing_points)\n",
    "\n",
    "# ---- 4.  Training setup ------------------------------------------------------\n",
    "model.train()\n",
    "likelihood.train()\n",
    "\n",
    "optimizer = torch.optim.Adam(model.parameters(), lr=0.01)\n",
    "mll = gpytorch.mlls.VariationalELBO(likelihood, model, num_data=train_y.size(0))\n",
    "\n",
    "num_epochs = 500\n",
    "for i in range(num_epochs):\n",
    "    optimizer.zero_grad()\n",
    "    output = model(train_x)\n",
    "    loss = -mll(output, train_y)\n",
    "    loss.backward()\n",
    "    if (i + 1) % 100 == 0:\n",
    "        print(f\"Epoch {i+1}/{num_epochs}  −  Loss: {loss.item():.3f}\")\n",
    "    optimizer.step()\n",
    "\n",
    "# ---- 5.  Evaluation & plotting ----------------------------------------------\n",
    "model.eval()\n",
    "likelihood.eval()\n",
    "\n",
    "with torch.no_grad():\n",
    "    test_x = torch.linspace(0, 1, 200)\n",
    "    pred_dist = likelihood(model(test_x))\n",
    "    mean = pred_dist.loc\n",
    "    std = pred_dist.scale * torch.sqrt((pred_dist.df)/(pred_dist.df - 2))\n",
    "\n",
    "print(\"mean:\", mean.shape)\n",
    "\n",
    "plt.figure(figsize=(8, 4))\n",
    "plt.plot(train_x.numpy(), train_y.numpy(), \"k*\", label=\"Train datapoints\")\n",
    "plt.plot(test_x.numpy(), mean.numpy(), label=\"Predictive mean\")\n",
    "plt.fill_between(mean.numpy(),\n",
    "                 mean.numpy() + 2*std.numpy(),\n",
    "                 mean.numpy() - 2*std.numpy(),\n",
    "                 alpha=0.3,\n",
    "                 label=\"95% cred. band\")\n",
    "plt.legend(); plt.title(\"Approximate GP with Student‑T likelihood\")\n",
    "plt.show()\n"
   ]
  },
  {
   "cell_type": "code",
   "execution_count": 43,
   "id": "88310324",
   "metadata": {},
   "outputs": [
    {
     "name": "stdout",
     "output_type": "stream",
     "text": [
      "Epoch 100/500  −  Loss: 0.953\n",
      "Epoch 200/500  −  Loss: 0.890\n",
      "Epoch 300/500  −  Loss: 0.887\n",
      "Epoch 400/500  −  Loss: 0.887\n",
      "Epoch 500/500  −  Loss: 0.887\n",
      "StudentT(df: torch.Size([10, 200]), loc: torch.Size([10, 200]), scale: torch.Size([10, 200]))\n",
      "mean: tensor([[ 0.5744,  0.5882,  0.5862,  ..., -0.1884, -0.2035, -0.1670],\n",
      "        [ 0.0456,  0.0637,  0.0683,  ..., -0.1069, -0.0417, -0.0509],\n",
      "        [ 0.2241,  0.2306,  0.2528,  ..., -0.3995, -0.3912, -0.3601],\n",
      "        ...,\n",
      "        [ 0.4993,  0.5063,  0.5094,  ..., -0.4458, -0.4415, -0.4284],\n",
      "        [-0.0526, -0.0447, -0.0140,  ...,  0.1553,  0.2011,  0.2034],\n",
      "        [ 0.1163,  0.1651,  0.2242,  ..., -0.2380, -0.2495, -0.2748]])\n"
     ]
    },
    {
     "ename": "ValueError",
     "evalue": "'x' is not 1-dimensional",
     "output_type": "error",
     "traceback": [
      "\u001b[31m---------------------------------------------------------------------------\u001b[39m",
      "\u001b[31mValueError\u001b[39m                                Traceback (most recent call last)",
      "\u001b[36mCell\u001b[39m\u001b[36m \u001b[39m\u001b[32mIn[43]\u001b[39m\u001b[32m, line 74\u001b[39m\n\u001b[32m     72\u001b[39m plt.plot(train_x.numpy(), train_y.numpy(), \u001b[33m\"\u001b[39m\u001b[33mk*\u001b[39m\u001b[33m\"\u001b[39m, label=\u001b[33m\"\u001b[39m\u001b[33mTrain datapoints\u001b[39m\u001b[33m\"\u001b[39m)\n\u001b[32m     73\u001b[39m plt.plot(test_x.numpy(), mean[\u001b[32m0\u001b[39m].numpy(), label=\u001b[33m\"\u001b[39m\u001b[33mPredictive mean\u001b[39m\u001b[33m\"\u001b[39m)\n\u001b[32m---> \u001b[39m\u001b[32m74\u001b[39m \u001b[43mplt\u001b[49m\u001b[43m.\u001b[49m\u001b[43mfill_between\u001b[49m\u001b[43m(\u001b[49m\u001b[43mmean\u001b[49m\u001b[43m.\u001b[49m\u001b[43mnumpy\u001b[49m\u001b[43m(\u001b[49m\u001b[43m)\u001b[49m\u001b[43m,\u001b[49m\n\u001b[32m     75\u001b[39m \u001b[43m                 \u001b[49m\u001b[43mmean\u001b[49m\u001b[43m.\u001b[49m\u001b[43mnumpy\u001b[49m\u001b[43m(\u001b[49m\u001b[43m)\u001b[49m\u001b[43m \u001b[49m\u001b[43m+\u001b[49m\u001b[43m \u001b[49m\u001b[32;43m2\u001b[39;49m\u001b[43m*\u001b[49m\u001b[43mstd\u001b[49m\u001b[43m.\u001b[49m\u001b[43mnumpy\u001b[49m\u001b[43m(\u001b[49m\u001b[43m)\u001b[49m\u001b[43m,\u001b[49m\n\u001b[32m     76\u001b[39m \u001b[43m                 \u001b[49m\u001b[43mmean\u001b[49m\u001b[43m.\u001b[49m\u001b[43mnumpy\u001b[49m\u001b[43m(\u001b[49m\u001b[43m)\u001b[49m\u001b[43m \u001b[49m\u001b[43m-\u001b[49m\u001b[43m \u001b[49m\u001b[32;43m2\u001b[39;49m\u001b[43m*\u001b[49m\u001b[43mstd\u001b[49m\u001b[43m.\u001b[49m\u001b[43mnumpy\u001b[49m\u001b[43m(\u001b[49m\u001b[43m)\u001b[49m\u001b[43m,\u001b[49m\n\u001b[32m     77\u001b[39m \u001b[43m                 \u001b[49m\u001b[43malpha\u001b[49m\u001b[43m=\u001b[49m\u001b[32;43m0.3\u001b[39;49m\u001b[43m,\u001b[49m\n\u001b[32m     78\u001b[39m \u001b[43m                 \u001b[49m\u001b[43mlabel\u001b[49m\u001b[43m=\u001b[49m\u001b[33;43m\"\u001b[39;49m\u001b[33;43m95\u001b[39;49m\u001b[38;5;132;43;01m% c\u001b[39;49;00m\u001b[33;43mred. band\u001b[39;49m\u001b[33;43m\"\u001b[39;49m\u001b[43m)\u001b[49m\n\u001b[32m     79\u001b[39m plt.legend(); plt.title(\u001b[33m\"\u001b[39m\u001b[33mApproximate GP with Student‑T likelihood\u001b[39m\u001b[33m\"\u001b[39m)\n\u001b[32m     80\u001b[39m plt.show()\n",
      "\u001b[36mFile \u001b[39m\u001b[32mc:\\Users\\joshu\\AppData\\Local\\Programs\\Python\\Python312\\Lib\\site-packages\\matplotlib\\pyplot.py:3351\u001b[39m, in \u001b[36mfill_between\u001b[39m\u001b[34m(x, y1, y2, where, interpolate, step, data, **kwargs)\u001b[39m\n\u001b[32m   3339\u001b[39m \u001b[38;5;129m@_copy_docstring_and_deprecators\u001b[39m(Axes.fill_between)\n\u001b[32m   3340\u001b[39m \u001b[38;5;28;01mdef\u001b[39;00m\u001b[38;5;250m \u001b[39m\u001b[34mfill_between\u001b[39m(\n\u001b[32m   3341\u001b[39m     x: ArrayLike,\n\u001b[32m   (...)\u001b[39m\u001b[32m   3349\u001b[39m     **kwargs,\n\u001b[32m   3350\u001b[39m ) -> FillBetweenPolyCollection:\n\u001b[32m-> \u001b[39m\u001b[32m3351\u001b[39m     \u001b[38;5;28;01mreturn\u001b[39;00m \u001b[43mgca\u001b[49m\u001b[43m(\u001b[49m\u001b[43m)\u001b[49m\u001b[43m.\u001b[49m\u001b[43mfill_between\u001b[49m\u001b[43m(\u001b[49m\n\u001b[32m   3352\u001b[39m \u001b[43m        \u001b[49m\u001b[43mx\u001b[49m\u001b[43m,\u001b[49m\n\u001b[32m   3353\u001b[39m \u001b[43m        \u001b[49m\u001b[43my1\u001b[49m\u001b[43m,\u001b[49m\n\u001b[32m   3354\u001b[39m \u001b[43m        \u001b[49m\u001b[43my2\u001b[49m\u001b[43m=\u001b[49m\u001b[43my2\u001b[49m\u001b[43m,\u001b[49m\n\u001b[32m   3355\u001b[39m \u001b[43m        \u001b[49m\u001b[43mwhere\u001b[49m\u001b[43m=\u001b[49m\u001b[43mwhere\u001b[49m\u001b[43m,\u001b[49m\n\u001b[32m   3356\u001b[39m \u001b[43m        \u001b[49m\u001b[43minterpolate\u001b[49m\u001b[43m=\u001b[49m\u001b[43minterpolate\u001b[49m\u001b[43m,\u001b[49m\n\u001b[32m   3357\u001b[39m \u001b[43m        \u001b[49m\u001b[43mstep\u001b[49m\u001b[43m=\u001b[49m\u001b[43mstep\u001b[49m\u001b[43m,\u001b[49m\n\u001b[32m   3358\u001b[39m \u001b[43m        \u001b[49m\u001b[43m*\u001b[49m\u001b[43m*\u001b[49m\u001b[43m(\u001b[49m\u001b[43m{\u001b[49m\u001b[33;43m\"\u001b[39;49m\u001b[33;43mdata\u001b[39;49m\u001b[33;43m\"\u001b[39;49m\u001b[43m:\u001b[49m\u001b[43m \u001b[49m\u001b[43mdata\u001b[49m\u001b[43m}\u001b[49m\u001b[43m \u001b[49m\u001b[38;5;28;43;01mif\u001b[39;49;00m\u001b[43m \u001b[49m\u001b[43mdata\u001b[49m\u001b[43m \u001b[49m\u001b[38;5;129;43;01mis\u001b[39;49;00m\u001b[43m \u001b[49m\u001b[38;5;129;43;01mnot\u001b[39;49;00m\u001b[43m \u001b[49m\u001b[38;5;28;43;01mNone\u001b[39;49;00m\u001b[43m \u001b[49m\u001b[38;5;28;43;01melse\u001b[39;49;00m\u001b[43m \u001b[49m\u001b[43m{\u001b[49m\u001b[43m}\u001b[49m\u001b[43m)\u001b[49m\u001b[43m,\u001b[49m\n\u001b[32m   3359\u001b[39m \u001b[43m        \u001b[49m\u001b[43m*\u001b[49m\u001b[43m*\u001b[49m\u001b[43mkwargs\u001b[49m\u001b[43m,\u001b[49m\n\u001b[32m   3360\u001b[39m \u001b[43m    \u001b[49m\u001b[43m)\u001b[49m\n",
      "\u001b[36mFile \u001b[39m\u001b[32mc:\\Users\\joshu\\AppData\\Local\\Programs\\Python\\Python312\\Lib\\site-packages\\matplotlib\\__init__.py:1521\u001b[39m, in \u001b[36m_preprocess_data.<locals>.inner\u001b[39m\u001b[34m(ax, data, *args, **kwargs)\u001b[39m\n\u001b[32m   1518\u001b[39m \u001b[38;5;129m@functools\u001b[39m.wraps(func)\n\u001b[32m   1519\u001b[39m \u001b[38;5;28;01mdef\u001b[39;00m\u001b[38;5;250m \u001b[39m\u001b[34minner\u001b[39m(ax, *args, data=\u001b[38;5;28;01mNone\u001b[39;00m, **kwargs):\n\u001b[32m   1520\u001b[39m     \u001b[38;5;28;01mif\u001b[39;00m data \u001b[38;5;129;01mis\u001b[39;00m \u001b[38;5;28;01mNone\u001b[39;00m:\n\u001b[32m-> \u001b[39m\u001b[32m1521\u001b[39m         \u001b[38;5;28;01mreturn\u001b[39;00m \u001b[43mfunc\u001b[49m\u001b[43m(\u001b[49m\n\u001b[32m   1522\u001b[39m \u001b[43m            \u001b[49m\u001b[43max\u001b[49m\u001b[43m,\u001b[49m\n\u001b[32m   1523\u001b[39m \u001b[43m            \u001b[49m\u001b[43m*\u001b[49m\u001b[38;5;28;43mmap\u001b[39;49m\u001b[43m(\u001b[49m\u001b[43mcbook\u001b[49m\u001b[43m.\u001b[49m\u001b[43msanitize_sequence\u001b[49m\u001b[43m,\u001b[49m\u001b[43m \u001b[49m\u001b[43margs\u001b[49m\u001b[43m)\u001b[49m\u001b[43m,\u001b[49m\n\u001b[32m   1524\u001b[39m \u001b[43m            \u001b[49m\u001b[43m*\u001b[49m\u001b[43m*\u001b[49m\u001b[43m{\u001b[49m\u001b[43mk\u001b[49m\u001b[43m:\u001b[49m\u001b[43m \u001b[49m\u001b[43mcbook\u001b[49m\u001b[43m.\u001b[49m\u001b[43msanitize_sequence\u001b[49m\u001b[43m(\u001b[49m\u001b[43mv\u001b[49m\u001b[43m)\u001b[49m\u001b[43m \u001b[49m\u001b[38;5;28;43;01mfor\u001b[39;49;00m\u001b[43m \u001b[49m\u001b[43mk\u001b[49m\u001b[43m,\u001b[49m\u001b[43m \u001b[49m\u001b[43mv\u001b[49m\u001b[43m \u001b[49m\u001b[38;5;129;43;01min\u001b[39;49;00m\u001b[43m \u001b[49m\u001b[43mkwargs\u001b[49m\u001b[43m.\u001b[49m\u001b[43mitems\u001b[49m\u001b[43m(\u001b[49m\u001b[43m)\u001b[49m\u001b[43m}\u001b[49m\u001b[43m)\u001b[49m\n\u001b[32m   1526\u001b[39m     bound = new_sig.bind(ax, *args, **kwargs)\n\u001b[32m   1527\u001b[39m     auto_label = (bound.arguments.get(label_namer)\n\u001b[32m   1528\u001b[39m                   \u001b[38;5;129;01mor\u001b[39;00m bound.kwargs.get(label_namer))\n",
      "\u001b[36mFile \u001b[39m\u001b[32mc:\\Users\\joshu\\AppData\\Local\\Programs\\Python\\Python312\\Lib\\site-packages\\matplotlib\\axes\\_axes.py:5719\u001b[39m, in \u001b[36mAxes.fill_between\u001b[39m\u001b[34m(self, x, y1, y2, where, interpolate, step, **kwargs)\u001b[39m\n\u001b[32m   5717\u001b[39m \u001b[38;5;28;01mdef\u001b[39;00m\u001b[38;5;250m \u001b[39m\u001b[34mfill_between\u001b[39m(\u001b[38;5;28mself\u001b[39m, x, y1, y2=\u001b[32m0\u001b[39m, where=\u001b[38;5;28;01mNone\u001b[39;00m, interpolate=\u001b[38;5;28;01mFalse\u001b[39;00m,\n\u001b[32m   5718\u001b[39m                  step=\u001b[38;5;28;01mNone\u001b[39;00m, **kwargs):\n\u001b[32m-> \u001b[39m\u001b[32m5719\u001b[39m     \u001b[38;5;28;01mreturn\u001b[39;00m \u001b[38;5;28;43mself\u001b[39;49m\u001b[43m.\u001b[49m\u001b[43m_fill_between_x_or_y\u001b[49m\u001b[43m(\u001b[49m\n\u001b[32m   5720\u001b[39m \u001b[43m        \u001b[49m\u001b[33;43m\"\u001b[39;49m\u001b[33;43mx\u001b[39;49m\u001b[33;43m\"\u001b[39;49m\u001b[43m,\u001b[49m\u001b[43m \u001b[49m\u001b[43mx\u001b[49m\u001b[43m,\u001b[49m\u001b[43m \u001b[49m\u001b[43my1\u001b[49m\u001b[43m,\u001b[49m\u001b[43m \u001b[49m\u001b[43my2\u001b[49m\u001b[43m,\u001b[49m\n\u001b[32m   5721\u001b[39m \u001b[43m        \u001b[49m\u001b[43mwhere\u001b[49m\u001b[43m=\u001b[49m\u001b[43mwhere\u001b[49m\u001b[43m,\u001b[49m\u001b[43m \u001b[49m\u001b[43minterpolate\u001b[49m\u001b[43m=\u001b[49m\u001b[43minterpolate\u001b[49m\u001b[43m,\u001b[49m\u001b[43m \u001b[49m\u001b[43mstep\u001b[49m\u001b[43m=\u001b[49m\u001b[43mstep\u001b[49m\u001b[43m,\u001b[49m\u001b[43m \u001b[49m\u001b[43m*\u001b[49m\u001b[43m*\u001b[49m\u001b[43mkwargs\u001b[49m\u001b[43m)\u001b[49m\n",
      "\u001b[36mFile \u001b[39m\u001b[32mc:\\Users\\joshu\\AppData\\Local\\Programs\\Python\\Python312\\Lib\\site-packages\\matplotlib\\axes\\_axes.py:5704\u001b[39m, in \u001b[36mAxes._fill_between_x_or_y\u001b[39m\u001b[34m(self, ind_dir, ind, dep1, dep2, where, interpolate, step, **kwargs)\u001b[39m\n\u001b[32m   5699\u001b[39m         kwargs[\u001b[33m\"\u001b[39m\u001b[33mfacecolor\u001b[39m\u001b[33m\"\u001b[39m] = \u001b[38;5;28mself\u001b[39m._get_patches_for_fill.get_next_color()\n\u001b[32m   5701\u001b[39m ind, dep1, dep2 = \u001b[38;5;28mself\u001b[39m._fill_between_process_units(\n\u001b[32m   5702\u001b[39m     ind_dir, dep_dir, ind, dep1, dep2, **kwargs)\n\u001b[32m-> \u001b[39m\u001b[32m5704\u001b[39m collection = \u001b[43mmcoll\u001b[49m\u001b[43m.\u001b[49m\u001b[43mFillBetweenPolyCollection\u001b[49m\u001b[43m(\u001b[49m\n\u001b[32m   5705\u001b[39m \u001b[43m    \u001b[49m\u001b[43mind_dir\u001b[49m\u001b[43m,\u001b[49m\u001b[43m \u001b[49m\u001b[43mind\u001b[49m\u001b[43m,\u001b[49m\u001b[43m \u001b[49m\u001b[43mdep1\u001b[49m\u001b[43m,\u001b[49m\u001b[43m \u001b[49m\u001b[43mdep2\u001b[49m\u001b[43m,\u001b[49m\n\u001b[32m   5706\u001b[39m \u001b[43m    \u001b[49m\u001b[43mwhere\u001b[49m\u001b[43m=\u001b[49m\u001b[43mwhere\u001b[49m\u001b[43m,\u001b[49m\u001b[43m \u001b[49m\u001b[43minterpolate\u001b[49m\u001b[43m=\u001b[49m\u001b[43minterpolate\u001b[49m\u001b[43m,\u001b[49m\u001b[43m \u001b[49m\u001b[43mstep\u001b[49m\u001b[43m=\u001b[49m\u001b[43mstep\u001b[49m\u001b[43m,\u001b[49m\u001b[43m \u001b[49m\u001b[43m*\u001b[49m\u001b[43m*\u001b[49m\u001b[43mkwargs\u001b[49m\u001b[43m)\u001b[49m\n\u001b[32m   5708\u001b[39m \u001b[38;5;28mself\u001b[39m.add_collection(collection)\n\u001b[32m   5709\u001b[39m \u001b[38;5;28mself\u001b[39m._request_autoscale_view()\n",
      "\u001b[36mFile \u001b[39m\u001b[32mc:\\Users\\joshu\\AppData\\Local\\Programs\\Python\\Python312\\Lib\\site-packages\\matplotlib\\collections.py:1331\u001b[39m, in \u001b[36mFillBetweenPolyCollection.__init__\u001b[39m\u001b[34m(self, t_direction, t, f1, f2, where, interpolate, step, **kwargs)\u001b[39m\n\u001b[32m   1329\u001b[39m \u001b[38;5;28mself\u001b[39m._interpolate = interpolate\n\u001b[32m   1330\u001b[39m \u001b[38;5;28mself\u001b[39m._step = step\n\u001b[32m-> \u001b[39m\u001b[32m1331\u001b[39m verts = \u001b[38;5;28;43mself\u001b[39;49m\u001b[43m.\u001b[49m\u001b[43m_make_verts\u001b[49m\u001b[43m(\u001b[49m\u001b[43mt\u001b[49m\u001b[43m,\u001b[49m\u001b[43m \u001b[49m\u001b[43mf1\u001b[49m\u001b[43m,\u001b[49m\u001b[43m \u001b[49m\u001b[43mf2\u001b[49m\u001b[43m,\u001b[49m\u001b[43m \u001b[49m\u001b[43mwhere\u001b[49m\u001b[43m)\u001b[49m\n\u001b[32m   1332\u001b[39m \u001b[38;5;28msuper\u001b[39m().\u001b[34m__init__\u001b[39m(verts, **kwargs)\n",
      "\u001b[36mFile \u001b[39m\u001b[32mc:\\Users\\joshu\\AppData\\Local\\Programs\\Python\\Python312\\Lib\\site-packages\\matplotlib\\collections.py:1395\u001b[39m, in \u001b[36mFillBetweenPolyCollection._make_verts\u001b[39m\u001b[34m(self, t, f1, f2, where)\u001b[39m\n\u001b[32m   1391\u001b[39m \u001b[38;5;28;01mdef\u001b[39;00m\u001b[38;5;250m \u001b[39m\u001b[34m_make_verts\u001b[39m(\u001b[38;5;28mself\u001b[39m, t, f1, f2, where):\n\u001b[32m   1392\u001b[39m \u001b[38;5;250m    \u001b[39m\u001b[33;03m\"\"\"\u001b[39;00m\n\u001b[32m   1393\u001b[39m \u001b[33;03m    Make verts that can be forwarded to `.PolyCollection`.\u001b[39;00m\n\u001b[32m   1394\u001b[39m \u001b[33;03m    \"\"\"\u001b[39;00m\n\u001b[32m-> \u001b[39m\u001b[32m1395\u001b[39m     \u001b[38;5;28;43mself\u001b[39;49m\u001b[43m.\u001b[49m\u001b[43m_validate_shapes\u001b[49m\u001b[43m(\u001b[49m\u001b[38;5;28;43mself\u001b[39;49m\u001b[43m.\u001b[49m\u001b[43mt_direction\u001b[49m\u001b[43m,\u001b[49m\u001b[43m \u001b[49m\u001b[38;5;28;43mself\u001b[39;49m\u001b[43m.\u001b[49m\u001b[43m_f_direction\u001b[49m\u001b[43m,\u001b[49m\u001b[43m \u001b[49m\u001b[43mt\u001b[49m\u001b[43m,\u001b[49m\u001b[43m \u001b[49m\u001b[43mf1\u001b[49m\u001b[43m,\u001b[49m\u001b[43m \u001b[49m\u001b[43mf2\u001b[49m\u001b[43m)\u001b[49m\n\u001b[32m   1397\u001b[39m     where = \u001b[38;5;28mself\u001b[39m._get_data_mask(t, f1, f2, where)\n\u001b[32m   1398\u001b[39m     t, f1, f2 = np.broadcast_arrays(np.atleast_1d(t), f1, f2, subok=\u001b[38;5;28;01mTrue\u001b[39;00m)\n",
      "\u001b[36mFile \u001b[39m\u001b[32mc:\\Users\\joshu\\AppData\\Local\\Programs\\Python\\Python312\\Lib\\site-packages\\matplotlib\\collections.py:1433\u001b[39m, in \u001b[36mFillBetweenPolyCollection._validate_shapes\u001b[39m\u001b[34m(t_dir, f_dir, t, f1, f2)\u001b[39m\n\u001b[32m   1431\u001b[39m \u001b[38;5;28;01mfor\u001b[39;00m name, array \u001b[38;5;129;01min\u001b[39;00m \u001b[38;5;28mzip\u001b[39m(names, [t, f1, f2]):\n\u001b[32m   1432\u001b[39m     \u001b[38;5;28;01mif\u001b[39;00m array.ndim > \u001b[32m1\u001b[39m:\n\u001b[32m-> \u001b[39m\u001b[32m1433\u001b[39m         \u001b[38;5;28;01mraise\u001b[39;00m \u001b[38;5;167;01mValueError\u001b[39;00m(\u001b[33mf\u001b[39m\u001b[33m\"\u001b[39m\u001b[38;5;132;01m{\u001b[39;00mname\u001b[38;5;132;01m!r}\u001b[39;00m\u001b[33m is not 1-dimensional\u001b[39m\u001b[33m\"\u001b[39m)\n\u001b[32m   1434\u001b[39m     \u001b[38;5;28;01mif\u001b[39;00m t.size > \u001b[32m1\u001b[39m \u001b[38;5;129;01mand\u001b[39;00m array.size > \u001b[32m1\u001b[39m \u001b[38;5;129;01mand\u001b[39;00m t.size != array.size:\n\u001b[32m   1435\u001b[39m         msg = \u001b[33m\"\u001b[39m\u001b[38;5;132;01m{!r}\u001b[39;00m\u001b[33m has size \u001b[39m\u001b[38;5;132;01m{}\u001b[39;00m\u001b[33m, but \u001b[39m\u001b[38;5;132;01m{!r}\u001b[39;00m\u001b[33m has an unequal size of \u001b[39m\u001b[38;5;132;01m{}\u001b[39;00m\u001b[33m\"\u001b[39m.format(\n\u001b[32m   1436\u001b[39m             t_dir, t.size, name, array.size)\n",
      "\u001b[31mValueError\u001b[39m: 'x' is not 1-dimensional"
     ]
    },
    {
     "data": {
      "image/png": "[encoded data removed]",
      "text/plain": [
       "<Figure size 800x400 with 1 Axes>"
      ]
     },
     "metadata": {},
     "output_type": "display_data"
    }
   ],
   "source": [
    "import torch\n",
    "import gpytorch\n",
    "from matplotlib import pyplot as plt\n",
    "\n",
    "# ---- 1.  Fake training data --------------------------------------------------\n",
    "train_x = torch.linspace(0, 1, 100)\n",
    "train_y = torch.sin(train_x * (2 * torch.pi)) + 0.2 * torch.randn_like(train_x)\n",
    "\n",
    "# ---- 2.  Model definition ----------------------------------------------------\n",
    "class GPModel(gpytorch.models.ApproximateGP):\n",
    "    def __init__(self, inducing_points):\n",
    "        # 2a. Variational objects\n",
    "        variational_distribution = gpytorch.variational.CholeskyVariationalDistribution(\n",
    "            inducing_points.size(0)\n",
    "        )\n",
    "        variational_strategy = gpytorch.variational.VariationalStrategy(\n",
    "            self,\n",
    "            inducing_points,\n",
    "            variational_distribution,\n",
    "            learn_inducing_locations=True,\n",
    "        )\n",
    "        super().__init__(variational_strategy)\n",
    "\n",
    "        # 2b. Mean & covariance modules\n",
    "        self.mean_module = gpytorch.means.ConstantMean()\n",
    "        self.covar_module = gpytorch.kernels.ScaleKernel(\n",
    "            gpytorch.kernels.RBFKernel()\n",
    "        )\n",
    "\n",
    "    def forward(self, x):\n",
    "        mean_x = self.mean_module(x)\n",
    "        covar_x = self.covar_module(x)\n",
    "        return gpytorch.distributions.MultivariateNormal(mean_x, covar_x)\n",
    "\n",
    "# ---- 3.  Likelihood & model instances ---------------------------------------\n",
    "likelihood = gpytorch.likelihoods.StudentTLikelihood()  # ν = degrees of freedom\n",
    "inducing_points = train_x[::5]  # pick 20 inducing points, shape (20, 1)\n",
    "model = GPModel(inducing_points)\n",
    "\n",
    "# ---- 4.  Training setup ------------------------------------------------------\n",
    "model.train()\n",
    "likelihood.train()\n",
    "\n",
    "optimizer = torch.optim.Adam(model.parameters(), lr=0.01)\n",
    "mll = gpytorch.mlls.VariationalELBO(likelihood, model, num_data=train_y.size(0))\n",
    "\n",
    "num_epochs = 500\n",
    "for i in range(num_epochs):\n",
    "    optimizer.zero_grad()\n",
    "    output = model(train_x)\n",
    "    loss = -mll(output, train_y)\n",
    "    loss.backward()\n",
    "    if (i + 1) % 100 == 0:\n",
    "        print(f\"Epoch {i+1}/{num_epochs}  −  Loss: {loss.item():.3f}\")\n",
    "    optimizer.step()\n",
    "\n",
    "# ---- 5.  Evaluation & plotting ----------------------------------------------\n",
    "model.eval()\n",
    "likelihood.eval()\n",
    "\n",
    "with torch.no_grad():\n",
    "    test_x = torch.linspace(0, 1, 200)\n",
    "    f_preds = model(test_x)\n",
    "    pred_dist = likelihood(f_preds)\n",
    "    print(pred_dist)\n",
    "    mean = pred_dist.loc\n",
    "    std = pred_dist.scale * torch.sqrt((pred_dist.df)/(pred_dist.df - 2))\n",
    "\n",
    "print(\"mean:\", mean)\n",
    "\n",
    "plt.figure(figsize=(8, 4))\n",
    "plt.plot(train_x.numpy(), train_y.numpy(), \"k*\", label=\"Train datapoints\")\n",
    "plt.plot(test_x.numpy(), mean[0].numpy(), label=\"Predictive mean\")\n",
    "plt.fill_between(mean.numpy(),\n",
    "                 mean.numpy() + 2*std.numpy(),\n",
    "                 mean.numpy() - 2*std.numpy(),\n",
    "                 alpha=0.3,\n",
    "                 label=\"95% cred. band\")\n",
    "plt.legend(); plt.title(\"Approximate GP with Student‑T likelihood\")\n",
    "plt.show()\n"
   ]
  },
  {
   "cell_type": "markdown",
   "id": "ae2ef9ee",
   "metadata": {},
   "source": [
    "# GP Classification example"
   ]
  },
  {
   "cell_type": "code",
   "execution_count": null,
   "id": "a60658f1",
   "metadata": {},
   "outputs": [],
   "source": [
    "train_x = torch.linspace(0, 1, 10)\n",
    "train_y = torch.sign(torch.cos(train_x * (4 * math.pi))).add(1).div(2)"
   ]
  },
  {
   "cell_type": "code",
   "execution_count": 84,
   "id": "7eda9aef",
   "metadata": {},
   "outputs": [],
   "source": [
    "from gpytorch.models import ApproximateGP\n",
    "from gpytorch.variational import CholeskyVariationalDistribution\n",
    "from gpytorch.variational import UnwhitenedVariationalStrategy\n",
    "\n",
    "\n",
    "class GPClassificationModel(ApproximateGP):\n",
    "    def __init__(self, train_x):\n",
    "        variational_distribution = CholeskyVariationalDistribution(train_x.size(0))\n",
    "        variational_strategy = UnwhitenedVariationalStrategy(\n",
    "            self, train_x, variational_distribution, learn_inducing_locations=False\n",
    "        )\n",
    "        super(GPClassificationModel, self).__init__(variational_strategy)\n",
    "        self.mean_module = gpytorch.means.ConstantMean()\n",
    "        self.covar_module = gpytorch.kernels.ScaleKernel(gpytorch.kernels.RBFKernel())\n",
    "\n",
    "    def forward(self, x):\n",
    "        mean_x = self.mean_module(x)\n",
    "        covar_x = self.covar_module(x)\n",
    "        latent_pred = gpytorch.distributions.MultivariateNormal(mean_x, covar_x)\n",
    "        return latent_pred\n",
    "\n",
    "\n",
    "# Initialize model and likelihood\n",
    "model = GPClassificationModel(train_x)\n",
    "likelihood = gpytorch.likelihoods.BernoulliLikelihood()"
   ]
  },
  {
   "cell_type": "code",
   "execution_count": 50,
   "id": "609251f4",
   "metadata": {},
   "outputs": [
    {
     "name": "stdout",
     "output_type": "stream",
     "text": [
      "Iter 1/50 - Loss: 0.908\n",
      "Iter 2/50 - Loss: 5.393\n",
      "Iter 3/50 - Loss: 8.486\n",
      "Iter 4/50 - Loss: 3.704\n",
      "Iter 5/50 - Loss: 6.678\n",
      "Iter 6/50 - Loss: 6.995\n",
      "Iter 7/50 - Loss: 6.298\n",
      "Iter 8/50 - Loss: 4.970\n",
      "Iter 9/50 - Loss: 3.932\n",
      "Iter 10/50 - Loss: 3.237\n",
      "Iter 11/50 - Loss: 2.857\n",
      "Iter 12/50 - Loss: 2.643\n",
      "Iter 13/50 - Loss: 2.398\n",
      "Iter 14/50 - Loss: 2.207\n",
      "Iter 15/50 - Loss: 1.926\n",
      "Iter 16/50 - Loss: 1.665\n",
      "Iter 17/50 - Loss: 1.543\n",
      "Iter 18/50 - Loss: 1.504\n",
      "Iter 19/50 - Loss: 1.473\n",
      "Iter 20/50 - Loss: 1.452\n",
      "Iter 21/50 - Loss: 1.444\n",
      "Iter 22/50 - Loss: 1.442\n",
      "Iter 23/50 - Loss: 1.437\n",
      "Iter 24/50 - Loss: 1.427\n",
      "Iter 25/50 - Loss: 1.411\n",
      "Iter 26/50 - Loss: 1.390\n",
      "Iter 27/50 - Loss: 1.364\n",
      "Iter 28/50 - Loss: 1.335\n",
      "Iter 29/50 - Loss: 1.304\n",
      "Iter 30/50 - Loss: 1.271\n",
      "Iter 31/50 - Loss: 1.238\n",
      "Iter 32/50 - Loss: 1.207\n",
      "Iter 33/50 - Loss: 1.177\n",
      "Iter 34/50 - Loss: 1.151\n",
      "Iter 35/50 - Loss: 1.128\n",
      "Iter 36/50 - Loss: 1.109\n",
      "Iter 37/50 - Loss: 1.093\n",
      "Iter 38/50 - Loss: 1.078\n",
      "Iter 39/50 - Loss: 1.063\n",
      "Iter 40/50 - Loss: 1.047\n",
      "Iter 41/50 - Loss: 1.030\n",
      "Iter 42/50 - Loss: 1.010\n",
      "Iter 43/50 - Loss: 0.991\n",
      "Iter 44/50 - Loss: 0.972\n",
      "Iter 45/50 - Loss: 0.955\n",
      "Iter 46/50 - Loss: 0.940\n",
      "Iter 47/50 - Loss: 0.927\n",
      "Iter 48/50 - Loss: 0.915\n",
      "Iter 49/50 - Loss: 0.904\n",
      "Iter 50/50 - Loss: 0.894\n"
     ]
    }
   ],
   "source": [
    "# this is for running the notebook in our testing framework\n",
    "import os\n",
    "smoke_test = ('CI' in os.environ)\n",
    "training_iterations = 2 if smoke_test else 50\n",
    "\n",
    "\n",
    "# Find optimal model hyperparameters\n",
    "model.train()\n",
    "likelihood.train()\n",
    "\n",
    "# Use the adam optimizer\n",
    "optimizer = torch.optim.Adam(model.parameters(), lr=0.1)\n",
    "\n",
    "# \"Loss\" for GPs - the marginal log likelihood\n",
    "# num_data refers to the number of training datapoints\n",
    "mll = gpytorch.mlls.VariationalELBO(likelihood, model, train_y.numel())\n",
    "\n",
    "for i in range(training_iterations):\n",
    "    # Zero backpropped gradients from previous iteration\n",
    "    optimizer.zero_grad()\n",
    "    # Get predictive output\n",
    "    output = model(train_x)\n",
    "    # Calc loss and backprop gradients\n",
    "    loss = -mll(output, train_y)\n",
    "    loss.backward()\n",
    "    print('Iter %d/%d - Loss: %.3f' % (i + 1, training_iterations, loss.item()))\n",
    "    optimizer.step()"
   ]
  },
  {
   "cell_type": "code",
   "execution_count": 51,
   "id": "b844c1e3",
   "metadata": {},
   "outputs": [],
   "source": [
    "f_preds = model(test_x)\n",
    "y_preds = likelihood(model(test_x))\n",
    "\n",
    "f_mean = f_preds.mean\n",
    "f_samples = f_preds.sample(sample_shape=torch.Size((1000,)))"
   ]
  },
  {
   "cell_type": "code",
   "execution_count": null,
   "id": "12abc650",
   "metadata": {},
   "outputs": [
    {
     "data": {
      "image/png": "[encoded data removed]",
      "text/plain": [
       "<Figure size 400x300 with 1 Axes>"
      ]
     },
     "metadata": {},
     "output_type": "display_data"
    }
   ],
   "source": [
    "# Go into eval mode\n",
    "model.eval()\n",
    "likelihood.eval()\n",
    "\n",
    "with torch.no_grad():\n",
    "    # Test x are regularly spaced by 0.01 0,1 inclusive\n",
    "    test_x = torch.linspace(0, 1, 100)\n",
    "    # Get classification predictions\n",
    "    observed_pred = likelihood(model(test_x))\n",
    "\n",
    "    # Initialize fig and axes for plot\n",
    "    f, ax = plt.subplots(1, 1, figsize=(4, 3))\n",
    "    ax.plot(train_x.numpy(), train_y.numpy(), 'k*')\n",
    "    # Get the predicted labels (probabilites of belonging to the positive class)\n",
    "    # Transform these probabilities to be 0/1 labels\n",
    "    pred_labels = observed_pred.mean.ge(0.5).float()\n",
    "    ax.plot(test_x.numpy(), pred_labels.numpy(), 'b')\n",
    "    ax.set_ylim([-1, 2])\n",
    "    ax.legend(['Observed Data', 'Mean'])"
   ]
  },
  {
   "cell_type": "markdown",
   "id": "4da59061",
   "metadata": {},
   "source": [
    "## Trying the same for student-t"
   ]
  },
  {
   "cell_type": "code",
   "execution_count": 85,
   "id": "7b553bd4",
   "metadata": {},
   "outputs": [],
   "source": [
    "train_x = torch.linspace(0, 1, 100)\n",
    "train_y = torch.sin(train_x * (2 * torch.pi)) + 0.2 * torch.randn_like(train_x)\n",
    "test_x = torch.linspace(0, 1, 200)\n",
    "\n",
    "from gpytorch.models import ApproximateGP\n",
    "from gpytorch.variational import CholeskyVariationalDistribution\n",
    "from gpytorch.variational import UnwhitenedVariationalStrategy\n",
    "\n",
    "class StudentTModel(ApproximateGP):\n",
    "    def __init__(self, train_x):\n",
    "        variational_distribution = CholeskyVariationalDistribution(train_x.size(0))\n",
    "        variational_strategy = UnwhitenedVariationalStrategy(\n",
    "            self, train_x, variational_distribution, learn_inducing_locations=False\n",
    "        )\n",
    "        super(StudentTModel, self).__init__(variational_strategy)\n",
    "        self.mean_module = gpytorch.means.ConstantMean()\n",
    "        self.covar_module = gpytorch.kernels.ScaleKernel(gpytorch.kernels.RBFKernel())\n",
    "\n",
    "    def forward(self, x):\n",
    "        mean_x = self.mean_module(x)\n",
    "        covar_x = self.covar_module(x)\n",
    "        latent_pred = gpytorch.distributions.MultivariateNormal(mean_x, covar_x)\n",
    "        return latent_pred\n",
    "\n",
    "\n",
    "# Initialize model and likelihood\n",
    "model = GPClassificationModel(train_x)\n",
    "likelihood = gpytorch.likelihoods.StudentTLikelihood()"
   ]
  },
  {
   "cell_type": "code",
   "execution_count": 86,
   "id": "e300c687",
   "metadata": {},
   "outputs": [
    {
     "name": "stdout",
     "output_type": "stream",
     "text": [
      "Iter 1/50 - Loss: 1.590\n",
      "Iter 2/50 - Loss: 14.530\n",
      "Iter 3/50 - Loss: 68.797\n",
      "Iter 4/50 - Loss: 18.281\n",
      "Iter 5/50 - Loss: 37.748\n",
      "Iter 6/50 - Loss: 37.332\n",
      "Iter 7/50 - Loss: 19.791\n",
      "Iter 8/50 - Loss: 12.692\n",
      "Iter 9/50 - Loss: 14.875\n",
      "Iter 10/50 - Loss: 17.761\n",
      "Iter 11/50 - Loss: 15.842\n",
      "Iter 12/50 - Loss: 12.920\n",
      "Iter 13/50 - Loss: 11.656\n",
      "Iter 14/50 - Loss: 11.470\n",
      "Iter 15/50 - Loss: 11.103\n",
      "Iter 16/50 - Loss: 9.469\n",
      "Iter 17/50 - Loss: 8.331\n",
      "Iter 18/50 - Loss: 7.835\n",
      "Iter 19/50 - Loss: 8.010\n",
      "Iter 20/50 - Loss: 7.814\n",
      "Iter 21/50 - Loss: 7.298\n",
      "Iter 22/50 - Loss: 6.862\n",
      "Iter 23/50 - Loss: 6.616\n",
      "Iter 24/50 - Loss: 6.687\n",
      "Iter 25/50 - Loss: 6.379\n",
      "Iter 26/50 - Loss: 6.126\n",
      "Iter 27/50 - Loss: 5.892\n",
      "Iter 28/50 - Loss: 5.803\n",
      "Iter 29/50 - Loss: 5.735\n",
      "Iter 30/50 - Loss: 5.556\n",
      "Iter 31/50 - Loss: 5.245\n",
      "Iter 32/50 - Loss: 4.910\n",
      "Iter 33/50 - Loss: 4.659\n",
      "Iter 34/50 - Loss: 4.464\n",
      "Iter 35/50 - Loss: 4.251\n",
      "Iter 36/50 - Loss: 4.024\n",
      "Iter 37/50 - Loss: 3.801\n",
      "Iter 38/50 - Loss: 3.598\n",
      "Iter 39/50 - Loss: 3.434\n",
      "Iter 40/50 - Loss: 3.307\n",
      "Iter 41/50 - Loss: 3.176\n",
      "Iter 42/50 - Loss: 3.043\n",
      "Iter 43/50 - Loss: 2.925\n",
      "Iter 44/50 - Loss: 2.820\n",
      "Iter 45/50 - Loss: 2.712\n",
      "Iter 46/50 - Loss: 2.606\n",
      "Iter 47/50 - Loss: 2.518\n",
      "Iter 48/50 - Loss: 2.449\n",
      "Iter 49/50 - Loss: 2.385\n",
      "Iter 50/50 - Loss: 2.326\n"
     ]
    }
   ],
   "source": [
    "# Find optimal model hyperparameters\n",
    "model.train()\n",
    "likelihood.train()\n",
    "\n",
    "# Use the adam optimizer\n",
    "optimizer = torch.optim.Adam(model.parameters(), lr=0.1)\n",
    "\n",
    "# \"Loss\" for GPs - the marginal log likelihood\n",
    "# num_data refers to the number of training datapoints\n",
    "mll = gpytorch.mlls.VariationalELBO(likelihood, model, train_y.numel())\n",
    "\n",
    "for i in range(50):\n",
    "    # Zero backpropped gradients from previous iteration\n",
    "    optimizer.zero_grad()\n",
    "    # Get predictive output\n",
    "    output = model(train_x)\n",
    "    # Calc loss and backprop gradients\n",
    "    loss = -mll(output, train_y)\n",
    "    loss.backward()\n",
    "    print('Iter %d/%d - Loss: %.3f' % (i + 1, training_iterations, loss.item()))\n",
    "    optimizer.step()"
   ]
  },
  {
   "cell_type": "code",
   "execution_count": 87,
   "id": "42bfc41f",
   "metadata": {},
   "outputs": [
    {
     "name": "stdout",
     "output_type": "stream",
     "text": [
      "StudentT(df: torch.Size([10, 200]), loc: torch.Size([10, 200]), scale: torch.Size([10, 200]))\n"
     ]
    }
   ],
   "source": [
    "f_preds = model(test_x)\n",
    "y_preds = likelihood(model(test_x))\n",
    "print(y_preds)\n",
    "\n",
    "f_mean = f_preds.mean\n",
    "f_samples = f_preds.sample(sample_shape=torch.Size((1000,)))"
   ]
  },
  {
   "cell_type": "code",
   "execution_count": 88,
   "id": "ac3bd707",
   "metadata": {},
   "outputs": [
    {
     "data": {
      "image/png": "[encoded data removed]",
      "text/plain": [
       "<Figure size 400x300 with 1 Axes>"
      ]
     },
     "metadata": {},
     "output_type": "display_data"
    }
   ],
   "source": [
    "# Go into eval mode\n",
    "model.eval()\n",
    "likelihood.eval()\n",
    "\n",
    "with torch.no_grad():\n",
    "    # Test x are regularly spaced by 0.01 0,1 inclusive\n",
    "    test_x = torch.linspace(0, 1, 200)\n",
    "    observed_pred = likelihood(f_preds)\n",
    "\n",
    "    # Initialize fig and axes for plot\n",
    "    f, ax = plt.subplots(1, 1, figsize=(4, 3))\n",
    "    ax.plot(train_x.numpy(), train_y.numpy(), 'k*')\n",
    "    # Get the predicted labels (probabilites of belonging to the positive class)\n",
    "    # Transform these probabilities to be 0/1 labels\n",
    "    pred_y = observed_pred.mean.float()\n",
    "    for i in range(10):\n",
    "        ax.plot(test_x.numpy(), np.mean(pred_y.numpy(), axis=0))\n",
    "    ax.set_ylim([-1, 2])\n",
    "    ax.legend(['Observed Data', 'Mean'])"
   ]
  }
 ],
 "metadata": {
  "kernelspec": {
   "display_name": "Python 3",
   "language": "python",
   "name": "python3"
  },
  "language_info": {
   "codemirror_mode": {
    "name": "ipython",
    "version": 3
   },
   "file_extension": ".py",
   "mimetype": "text/x-python",
   "name": "python",
   "nbconvert_exporter": "python",
   "pygments_lexer": "ipython3",
   "version": "3.12.4"
  }
 },
 "nbformat": 4,
 "nbformat_minor": 5
}
