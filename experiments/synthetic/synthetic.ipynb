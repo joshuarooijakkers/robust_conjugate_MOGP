{
 "cells": [
  {
   "cell_type": "code",
   "execution_count": 1,
   "id": "4bf6aaca",
   "metadata": {},
   "outputs": [],
   "source": [
    "import sys\n",
    "import os\n",
    "sys.path.append(os.path.abspath('../../'))\n",
    "\n",
    "from rcgp.morcgp import MOGPRegressor, MORCGPRegressor_PM, MORCGP\n",
    "import numpy as np\n",
    "import pandas as pd\n",
    "import matplotlib.pyplot as plt\n",
    "from tqdm import tqdm\n",
    "from scipy.linalg import cholesky\n",
    "from sklearn.covariance import MinCovDet\n",
    "\n",
    "plt.rcParams.update({\n",
    "    \"text.usetex\": True,         \n",
    "    \"font.family\": \"serif\",       \n",
    "    \"text.latex.preamble\": r\"\\usepackage{amsmath}\",\n",
    "    'font.size': 24,         \n",
    "    'axes.labelsize': 24,    \n",
    "    'xtick.labelsize': 24,   \n",
    "    'ytick.labelsize': 24,  \n",
    "    'legend.fontsize': 20,\n",
    "    'lines.linewidth': 4,    \n",
    "    'lines.markersize': 5   \n",
    "})"
   ]
  },
  {
   "cell_type": "code",
   "execution_count": 2,
   "id": "165c76f7",
   "metadata": {},
   "outputs": [],
   "source": [
    "def rbf_kernel(x1, x2, lengthscale=1.0, variance=1.0):\n",
    "    sqdist = np.sum(x1**2, 1).reshape(-1,1) + np.sum(x2**2,1) - 2*np.dot(x1, x2.T)\n",
    "    return variance * np.exp(-0.5 / lengthscale**2 * sqdist)\n",
    "\n",
    "def calculate_rmse(y_true, y_pred):\n",
    "    errors = y_true - y_pred\n",
    "    squared_errors = errors ** 2\n",
    "    mse = np.mean(squared_errors)\n",
    "    rmse = np.sqrt(mse)\n",
    "    return rmse\n",
    "\n",
    "def nlpd(Y_true, mu_pred, var_pred):\n",
    "    epsilon = 1e-10\n",
    "    var_pred = np.maximum(var_pred, epsilon)\n",
    "    \n",
    "    nlpd_values = 0.5 * np.log(2 * np.pi * var_pred) + ((Y_true - mu_pred) ** 2) / (2 * var_pred)\n",
    "    \n",
    "    return np.mean(nlpd_values)"
   ]
  },
  {
   "cell_type": "code",
   "execution_count": 36,
   "id": "f2e43f33",
   "metadata": {},
   "outputs": [
    {
     "name": "stderr",
     "output_type": "stream",
     "text": [
      "100%|██████████| 1/1 [01:17<00:00, 77.09s/it]"
     ]
    },
    {
     "name": "stdout",
     "output_type": "stream",
     "text": [
      "MORCGP PM seed 11: RMSE = 0.206396829623943, NLPD = 0.31397014293898584\n",
      "MORCGP seed 11: RMSE = 0.12235440406595431, NLPD = 0.19797564851435911\n",
      "RMSE MORCGP (PM): 0.2064 ± 0.0000\n",
      "NLPD MORCGP (PM): 0.3140 ± 0.0000\n",
      "RMSE MORCGP: 0.1224 ± 0.0000\n",
      "NLPD MORCGP: 0.1980 ± 0.0000\n"
     ]
    },
    {
     "name": "stderr",
     "output_type": "stream",
     "text": [
      "\n"
     ]
    }
   ],
   "source": [
    "introduce_outliers = True\n",
    "introduce_missing_values = True\n",
    "\n",
    "run_mogp = False\n",
    "run_pm = True\n",
    "run_morcgp = True\n",
    "\n",
    "rmses_mogp_outliers, rmses_morcgp_outliers, rmses_pm_outliers = [], [], []\n",
    "nlpds_mogp_outliers, nlpds_morcgp_outliers, nlpds_pm_outliers = [], [], []\n",
    "\n",
    "N, D = 100, 3\n",
    "noise_var = 0.1\n",
    "if introduce_outliers:\n",
    "    epsilon = 0.1\n",
    "else:\n",
    "    epsilon = 0\n",
    "\n",
    "if introduce_missing_values:\n",
    "    missing_rate = 0.0\n",
    "else:\n",
    "    missing_rate = 0\n",
    "\n",
    "lengthscale = 1\n",
    "rbf_variance = 1.0\n",
    "\n",
    "# B = np.array([\n",
    "#     [1.0,  0.9,  0.7,  0.5],\n",
    "#     [0.9,  1.0,  0.8,  0.6],\n",
    "#     [0.7, 0.8,  1.0, 0.9],\n",
    "#     [0.5,  0.6,  0.9,  1.0],\n",
    "# ])\n",
    "B = np.array([\n",
    "    [1.0,  0.9,  0.7],\n",
    "    [0.9,  1.0,  0.8],\n",
    "    [0.7, 0.8,  1.0],\n",
    "])\n",
    "A = np.linalg.cholesky(B)\n",
    "\n",
    "epsilons = np.array([epsilon] * D)\n",
    "\n",
    "for i in tqdm(range(11,12)):\n",
    "    np.random.seed(i)\n",
    "    x = np.sort(np.random.uniform(-5, 5, N)).reshape(-1, 1)\n",
    "    Kx = rbf_kernel(x, x, lengthscale=lengthscale, variance=rbf_variance)\n",
    "    K = np.kron(B, Kx)\n",
    "\n",
    "    L = cholesky(K + 1e-6*np.eye(D*N), lower=True)\n",
    "\n",
    "    f_samples = L @ np.random.randn(D*N)\n",
    "    F = f_samples.reshape(D, N).T\n",
    "    Y_test = F + np.random.normal(0, noise_var, F.shape)\n",
    "    Y_train = Y_test.copy()\n",
    "\n",
    "    outliers_mask = np.zeros_like(Y_train, dtype=bool)\n",
    "\n",
    "    # Introduce missing values\n",
    "    if introduce_missing_values:\n",
    "        n_missing = int(missing_rate * Y_train.size)\n",
    "        missing_indices = np.random.choice(Y_train.size, n_missing, replace=False)\n",
    "        missing_coords = np.unravel_index(missing_indices, Y_train.shape)\n",
    "        Y_train[missing_coords] = np.nan\n",
    "\n",
    "    # Introduce outliers\n",
    "    if introduce_outliers:\n",
    "        for col in range(D):\n",
    "            non_nan_rows = np.where(~np.isnan(Y_train[:, col]))[0]\n",
    "            n_non_nan = len(non_nan_rows)\n",
    "            num_outliers = int(epsilon * n_non_nan)\n",
    "            if num_outliers > 0:\n",
    "                outlier_rows = np.random.choice(non_nan_rows, num_outliers, replace=False)\n",
    "\n",
    "                for row in outlier_rows:\n",
    "                    if Y_train[row, col] > 0:\n",
    "                        Y_train[row, col] += np.random.uniform(-3, -2)  # negative outlier\n",
    "                    else:\n",
    "                        Y_train[row, col] += np.random.uniform(2, 3)    # positive outlier\n",
    "                outliers_mask[outlier_rows, col] = True\n",
    "\n",
    "        # Count outliers per column\n",
    "        outliers_per_column = np.sum(outliers_mask, axis=0)\n",
    "        \n",
    "    Y_train_clean = Y_train[~np.isnan(Y_train).any(axis=1)]\n",
    "    mcd = MinCovDet(support_fraction=1-2*epsilon).fit(Y_train_clean)\n",
    "    robust_covariance = mcd.covariance_\n",
    "    robust_init_A = np.linalg.cholesky(robust_covariance)\n",
    "\n",
    "    if run_mogp:\n",
    "        # MOGP\n",
    "        mogp = MOGPRegressor(mean=0, length_scale=1, noise = np.array([0.1] * D), A = robust_init_A)\n",
    "        mogp.fit(x, Y_train)\n",
    "        mogp.optimize_hyperparameters(print_opt_param=False, print_iter_param=False)\n",
    "        mu_mogp, var_mogp = mogp.predict(x)\n",
    "        std_mogp = np.sqrt(var_mogp + mogp.noise)\n",
    "\n",
    "    if run_morcgp:\n",
    "        # MORCGP   \n",
    "        morcgp = MORCGP(mean=0, length_scale=1, noise_var=np.array([0.1]*D), A=robust_init_A)\n",
    "        morcgp.fit(x, Y_train, epsilons=np.array([0.2]*D))\n",
    "        init_gamma, init_c, gamma, c = morcgp.optimize_loo_cv(print_opt_param=False, print_iter_objective=False, k=2, init_cov=robust_covariance, fix_weights=True)\n",
    "        mu_morcgp, var_morcgp = morcgp.predict(x)\n",
    "        std_morcgp = np.sqrt(var_morcgp + morcgp.noise_var)\n",
    "\n",
    "    if run_pm:\n",
    "        # MORCGP (RCGP weights)\n",
    "        morcgp_pm = MORCGPRegressor_PM(mean=0, length_scale=1, noise=np.array([0.1]*D), A=robust_init_A, epsilons=epsilons)\n",
    "        morcgp_pm.fit(x, Y_train)\n",
    "        morcgp_pm.optimize_loo_cv(weighted=True, print_opt_param = False, print_iter_param=False)\n",
    "        mu_pm, var_pm = morcgp_pm.predict(x)\n",
    "        std_pm = np.sqrt(var_pm + morcgp_pm.noise)\n",
    "\n",
    "    # Performance metrics\n",
    "    if run_mogp:\n",
    "        rmse_mogp = calculate_rmse(Y_test, mu_mogp)\n",
    "        nlpd_mogp = nlpd(Y_test, mu_mogp, std_mogp**2)\n",
    "        print(f'MOGP seed {i}: RMSE = {rmse_mogp}, NLPD = {nlpd_mogp}')\n",
    "\n",
    "        rmses_mogp_outliers.append(rmse_mogp)\n",
    "        nlpds_mogp_outliers.append(nlpd_mogp)\n",
    "\n",
    "    if run_pm:\n",
    "        rmse_pm = calculate_rmse(Y_test, mu_pm)\n",
    "        nlpd_pm = nlpd(Y_test, mu_pm, std_pm**2)\n",
    "        print(f'MORCGP PM seed {i}: RMSE = {rmse_pm}, NLPD = {nlpd_pm}')\n",
    "\n",
    "        rmses_pm_outliers.append(rmse_pm)\n",
    "        nlpds_pm_outliers.append(nlpd_pm)\n",
    "\n",
    "    if run_morcgp:\n",
    "        rmse_morcgp = calculate_rmse(Y_test, mu_morcgp)\n",
    "        nlpd_morcgp = nlpd(Y_test, mu_morcgp, std_morcgp**2)\n",
    "        print(f'MORCGP seed {i}: RMSE = {rmse_morcgp}, NLPD = {nlpd_morcgp}')\n",
    "\n",
    "        rmses_morcgp_outliers.append(rmse_morcgp)\n",
    "        nlpds_morcgp_outliers.append(nlpd_morcgp)\n",
    "\n",
    "if run_mogp:\n",
    "    print(f'RMSE MOGP: {np.mean(rmses_mogp_outliers):.4f} ± {np.std(rmses_mogp_outliers):.4f}')\n",
    "    print(f'NLPD MOGP: {np.mean(nlpds_mogp_outliers):.4f} ± {np.std(nlpds_mogp_outliers):.4f}')\n",
    "if run_pm:\n",
    "    print(f'RMSE MORCGP (PM): {np.mean(rmses_pm_outliers):.4f} ± {np.std(rmses_pm_outliers):.4f}')\n",
    "    print(f'NLPD MORCGP (PM): {np.mean(nlpds_pm_outliers):.4f} ± {np.std(nlpds_pm_outliers):.4f}')\n",
    "if run_morcgp:\n",
    "    print(f'RMSE MORCGP: {np.mean(rmses_morcgp_outliers):.4f} ± {np.std(rmses_morcgp_outliers):.4f}')\n",
    "    print(f'NLPD MORCGP: {np.mean(nlpds_morcgp_outliers):.4f} ± {np.std(nlpds_morcgp_outliers):.4f}')"
   ]
  },
  {
   "cell_type": "code",
   "execution_count": 47,
   "id": "a1bd25fb",
   "metadata": {},
   "outputs": [
    {
     "data": {
      "image/png": "[encoded data removed]",
      "text/plain": [
       "<Figure size 1000x800 with 3 Axes>"
      ]
     },
     "metadata": {},
     "output_type": "display_data"
    }
   ],
   "source": [
    "import numpy as np\n",
    "import matplotlib.pyplot as plt\n",
    "\n",
    "# Assume:\n",
    "# x: (N, 1)\n",
    "# Y: (N, D)\n",
    "# mu_pm, std_pm, mu_morcgp, std_morcgp: (N, D)\n",
    "\n",
    "x_flat = x.flatten()\n",
    "D = Y_train.shape[1]\n",
    "\n",
    "# Create 2x2 grid of subplots\n",
    "fig, axes = plt.subplots(2, 2, figsize=(10, 8), sharex=True)\n",
    "axes = axes.flatten()  # make it easier to iterate\n",
    "\n",
    "for d in range(min(D, 4)):  # plot up to 4 dimensions\n",
    "    ax = axes[d]\n",
    "    \n",
    "    # Scatter of data\n",
    "    ax.plot(x_flat, Y_train[:, d], 'k.', label='Data', alpha=0.6)\n",
    "    \n",
    "    # PM predictions\n",
    "    ax.plot(x_flat, mu_pm[:, d], 'b-', label='PM mean')\n",
    "    ax.fill_between(\n",
    "        x_flat,\n",
    "        mu_pm[:, d] - 2 * std_pm[:, d],\n",
    "        mu_pm[:, d] + 2 * std_pm[:, d],\n",
    "        color='b',\n",
    "        alpha=0.2,\n",
    "        label='PM ±2 std'\n",
    "    )\n",
    "\n",
    "    # ax.fill_between(\n",
    "    #     x_flat,\n",
    "    #     - morcgp_pm.cs.reshape(D,N).T[:, d],\n",
    "    #     morcgp_pm.cs.reshape(D,N).T[:, d],\n",
    "    #     color='b',\n",
    "    #     alpha=0.2,\n",
    "    #     label='PM ±2 std'\n",
    "    # )\n",
    "    \n",
    "    # MORCGP predictions\n",
    "    ax.plot(x_flat, mu_morcgp[:, d], 'r-', label='MORCGP mean')\n",
    "    ax.fill_between(\n",
    "        x_flat,\n",
    "        mu_morcgp[:, d] - 2 * std_morcgp[:, d],\n",
    "        mu_morcgp[:, d] + 2 * std_morcgp[:, d],\n",
    "        color='r',\n",
    "        alpha=0.2,\n",
    "        label='MORCGP ±2 std'\n",
    "    )\n",
    "\n",
    "    # ax.plot(x_flat, gamma[:, d], 'r-', label='MORCGP mean')\n",
    "    # ax.fill_between(\n",
    "    #     x_flat,\n",
    "    #     gamma[:, d] - c[:, d],\n",
    "    #     gamma[:, d] + c[:, d],\n",
    "    #     color='r',\n",
    "    #     alpha=0.2,\n",
    "    #     label='MORCGP ±2 std'\n",
    "    # )\n",
    "\n",
    "    # ax.plot(x_flat, init_gamma[:, d], 'r-', label='MORCGP mean')\n",
    "    # ax.fill_between(\n",
    "    #     x_flat,\n",
    "    #     init_gamma[:, d] - init_c[:, d],\n",
    "    #     init_gamma[:, d] + init_c[:, d],\n",
    "    #     color='r',\n",
    "    #     alpha=0.2,\n",
    "    #     label='MORCGP ±2 std'\n",
    "    # )\n",
    "    \n",
    "    ax.set_title(f'Dimension {d+1}')\n",
    "    # ax.legend(fontsize=8)\n",
    "    # ax.grid(True)\n",
    "\n",
    "# Hide any unused subplots\n",
    "for i in range(min(D, 4), 4):\n",
    "    fig.delaxes(axes[i])\n",
    "\n",
    "plt.tight_layout()\n",
    "plt.show()\n"
   ]
  },
  {
   "cell_type": "code",
   "execution_count": 46,
   "id": "cb3ce291",
   "metadata": {},
   "outputs": [
    {
     "data": {
      "text/plain": [
       "array([[0.13188262, 0.14858754, 0.06737398],\n",
       "       [0.14858754, 0.25223364, 0.06161908],\n",
       "       [0.06737398, 0.06161908, 0.29001317]])"
      ]
     },
     "execution_count": 46,
     "metadata": {},
     "output_type": "execute_result"
    }
   ],
   "source": [
    "robust_covariance"
   ]
  },
  {
   "cell_type": "code",
   "execution_count": 53,
   "id": "6a078f43",
   "metadata": {},
   "outputs": [
    {
     "name": "stderr",
     "output_type": "stream",
     "text": [
      "  5%|▌         | 1/20 [01:58<37:35, 118.72s/it]"
     ]
    },
    {
     "name": "stdout",
     "output_type": "stream",
     "text": [
      "MOGP seed 0: RMSE = 0.09364749930292234, NLPD = -0.9342706906141419\n",
      "MORCGP PM seed 0: RMSE = 0.0924945373576198, NLPD = -0.9479313278652279\n",
      "MORCGP seed 0: RMSE = 0.09336603595626772, NLPD = -0.9355558816792192\n"
     ]
    },
    {
     "name": "stderr",
     "output_type": "stream",
     "text": [
      " 10%|█         | 2/20 [05:33<52:32, 175.16s/it]"
     ]
    },
    {
     "name": "stdout",
     "output_type": "stream",
     "text": [
      "MOGP seed 1: RMSE = 0.09744857805814422, NLPD = -0.9014647266118097\n",
      "MORCGP PM seed 1: RMSE = 0.0959239059466278, NLPD = -0.9198470379665573\n",
      "MORCGP seed 1: RMSE = 0.09717964124736268, NLPD = -0.9070533727867284\n"
     ]
    },
    {
     "name": "stderr",
     "output_type": "stream",
     "text": [
      " 15%|█▌        | 3/20 [06:46<36:24, 128.49s/it]"
     ]
    },
    {
     "name": "stdout",
     "output_type": "stream",
     "text": [
      "MOGP seed 2: RMSE = 0.09346435608879108, NLPD = -0.9310891331045035\n",
      "MORCGP PM seed 2: RMSE = 0.09388081187247133, NLPD = -0.9112271603348767\n",
      "MORCGP seed 2: RMSE = 0.09435269586858878, NLPD = -0.9291721640752544\n"
     ]
    },
    {
     "name": "stderr",
     "output_type": "stream",
     "text": [
      " 20%|██        | 4/20 [11:48<52:30, 196.93s/it]"
     ]
    },
    {
     "name": "stdout",
     "output_type": "stream",
     "text": [
      "MOGP seed 3: RMSE = 0.09069355487433683, NLPD = -0.9694019160215613\n",
      "MORCGP PM seed 3: RMSE = 0.09043779784509262, NLPD = -0.9672480769164722\n",
      "MORCGP seed 3: RMSE = 0.09204105419611039, NLPD = -0.9615515576721151\n"
     ]
    },
    {
     "name": "stderr",
     "output_type": "stream",
     "text": [
      " 25%|██▌       | 5/20 [13:53<42:47, 171.19s/it]"
     ]
    },
    {
     "name": "stdout",
     "output_type": "stream",
     "text": [
      "MOGP seed 4: RMSE = 0.08839123783691735, NLPD = -1.0003467097539998\n",
      "MORCGP PM seed 4: RMSE = 0.08748823635955946, NLPD = -1.0067550613881557\n",
      "MORCGP seed 4: RMSE = 0.08915907942089449, NLPD = -0.997413769141711\n"
     ]
    },
    {
     "name": "stderr",
     "output_type": "stream",
     "text": [
      " 30%|███       | 6/20 [15:52<35:45, 153.28s/it]"
     ]
    },
    {
     "name": "stdout",
     "output_type": "stream",
     "text": [
      "MOGP seed 5: RMSE = 0.08850906196262068, NLPD = -0.9910941974303746\n",
      "MORCGP PM seed 5: RMSE = 0.08364934805864074, NLPD = -1.0270191267174102\n",
      "MORCGP seed 5: RMSE = 0.08917553487678018, NLPD = -0.9886269611423033\n"
     ]
    },
    {
     "name": "stderr",
     "output_type": "stream",
     "text": [
      " 35%|███▌      | 7/20 [21:46<47:26, 218.94s/it]"
     ]
    },
    {
     "name": "stdout",
     "output_type": "stream",
     "text": [
      "MOGP seed 6: RMSE = 0.09190469461187896, NLPD = -0.9511932006510877\n",
      "MORCGP PM seed 6: RMSE = 0.09203755253218779, NLPD = -0.9505679262050452\n",
      "MORCGP seed 6: RMSE = 0.09155600059366184, NLPD = -0.9591784371537434\n"
     ]
    },
    {
     "name": "stderr",
     "output_type": "stream",
     "text": [
      " 40%|████      | 8/20 [25:40<44:45, 223.79s/it]"
     ]
    },
    {
     "name": "stdout",
     "output_type": "stream",
     "text": [
      "MOGP seed 7: RMSE = 0.08999914237780898, NLPD = -0.972211016961492\n",
      "MORCGP PM seed 7: RMSE = 0.09020371715640207, NLPD = -0.9696738919636827\n",
      "MORCGP seed 7: RMSE = 0.08785036538766887, NLPD = -0.9940496502136451\n"
     ]
    },
    {
     "name": "stderr",
     "output_type": "stream",
     "text": [
      " 45%|████▌     | 9/20 [29:42<42:05, 229.58s/it]"
     ]
    },
    {
     "name": "stdout",
     "output_type": "stream",
     "text": [
      "MOGP seed 8: RMSE = 0.0967583479731979, NLPD = -0.9045512524688771\n",
      "MORCGP PM seed 8: RMSE = 0.09545451493817671, NLPD = -0.9155150445021915\n",
      "MORCGP seed 8: RMSE = 0.09777603835539017, NLPD = -0.89848784868954\n"
     ]
    },
    {
     "name": "stderr",
     "output_type": "stream",
     "text": [
      " 50%|█████     | 10/20 [33:19<37:35, 225.59s/it]"
     ]
    },
    {
     "name": "stdout",
     "output_type": "stream",
     "text": [
      "MOGP seed 9: RMSE = 0.10324066305408161, NLPD = -0.8417543531234108\n",
      "MORCGP PM seed 9: RMSE = 0.10322582344625301, NLPD = -0.8417459321342934\n",
      "MORCGP seed 9: RMSE = 0.10014835380172432, NLPD = -0.8748015398872027\n"
     ]
    },
    {
     "name": "stderr",
     "output_type": "stream",
     "text": [
      " 55%|█████▌    | 11/20 [34:40<27:13, 181.47s/it]"
     ]
    },
    {
     "name": "stdout",
     "output_type": "stream",
     "text": [
      "MOGP seed 10: RMSE = 0.08639135556981226, NLPD = -1.0151608565725114\n",
      "MORCGP PM seed 10: RMSE = 0.08799323237490052, NLPD = -0.9985344023543039\n",
      "MORCGP seed 10: RMSE = 0.08638822632289289, NLPD = -1.0207268293332674\n"
     ]
    },
    {
     "name": "stderr",
     "output_type": "stream",
     "text": [
      " 60%|██████    | 12/20 [35:27<18:42, 140.35s/it]"
     ]
    },
    {
     "name": "stdout",
     "output_type": "stream",
     "text": [
      "MOGP seed 11: RMSE = 0.0922130303827657, NLPD = -0.9491067362554588\n",
      "MORCGP PM seed 11: RMSE = 0.09201123197987153, NLPD = -0.9477051835589279\n",
      "MORCGP seed 11: RMSE = 0.09310037572508705, NLPD = -0.9453398344783522\n"
     ]
    },
    {
     "name": "stderr",
     "output_type": "stream",
     "text": [
      " 65%|██████▌   | 13/20 [36:13<13:03, 111.86s/it]"
     ]
    },
    {
     "name": "stdout",
     "output_type": "stream",
     "text": [
      "MOGP seed 12: RMSE = 0.0937814281562159, NLPD = -0.9385251465306915\n",
      "MORCGP PM seed 12: RMSE = 0.0939444598703764, NLPD = -0.9344069024855499\n",
      "MORCGP seed 12: RMSE = 0.09385561256892333, NLPD = -0.9362213082204046\n"
     ]
    },
    {
     "name": "stderr",
     "output_type": "stream",
     "text": [
      " 70%|███████   | 14/20 [37:06<09:24, 94.13s/it] "
     ]
    },
    {
     "name": "stdout",
     "output_type": "stream",
     "text": [
      "MOGP seed 13: RMSE = 0.09108261827602972, NLPD = -0.9638111981976573\n",
      "MORCGP PM seed 13: RMSE = 0.08935623355595544, NLPD = -0.9830713190112373\n",
      "MORCGP seed 13: RMSE = 0.09009498774047135, NLPD = -0.97506324002741\n"
     ]
    },
    {
     "name": "stderr",
     "output_type": "stream",
     "text": [
      " 75%|███████▌  | 15/20 [37:44<06:26, 77.28s/it]"
     ]
    },
    {
     "name": "stdout",
     "output_type": "stream",
     "text": [
      "MOGP seed 14: RMSE = 0.09541039233838076, NLPD = -0.9209515917381881\n",
      "MORCGP PM seed 14: RMSE = 0.09539901746103531, NLPD = -0.906459216240202\n",
      "MORCGP seed 14: RMSE = 0.09547017282130665, NLPD = -0.9199818912643\n"
     ]
    },
    {
     "name": "stderr",
     "output_type": "stream",
     "text": [
      " 80%|████████  | 16/20 [38:49<04:54, 73.52s/it]"
     ]
    },
    {
     "name": "stdout",
     "output_type": "stream",
     "text": [
      "MOGP seed 15: RMSE = 0.09415563235818321, NLPD = -0.9310375027386883\n",
      "MORCGP PM seed 15: RMSE = 0.09430841711030676, NLPD = -0.9270166689165372\n",
      "MORCGP seed 15: RMSE = 0.09528462716956536, NLPD = -0.923265734163297\n"
     ]
    },
    {
     "name": "stderr",
     "output_type": "stream",
     "text": [
      " 85%|████████▌ | 17/20 [40:06<03:43, 74.38s/it]"
     ]
    },
    {
     "name": "stdout",
     "output_type": "stream",
     "text": [
      "MOGP seed 16: RMSE = 0.09022036624101094, NLPD = -0.9869866007933313\n",
      "MORCGP PM seed 16: RMSE = 0.08921930057903278, NLPD = -0.9932946222024933\n",
      "MORCGP seed 16: RMSE = 0.09154280451955521, NLPD = -0.9801354269635999\n"
     ]
    },
    {
     "name": "stderr",
     "output_type": "stream",
     "text": [
      " 90%|█████████ | 18/20 [40:48<02:09, 64.72s/it]"
     ]
    },
    {
     "name": "stdout",
     "output_type": "stream",
     "text": [
      "MOGP seed 17: RMSE = 0.09643745737276226, NLPD = -0.9061829708752672\n",
      "MORCGP PM seed 17: RMSE = 0.097495165143493, NLPD = -0.8850708099859708\n",
      "MORCGP seed 17: RMSE = 0.09690048707544255, NLPD = -0.9065078246499303\n"
     ]
    },
    {
     "name": "stderr",
     "output_type": "stream",
     "text": [
      " 95%|█████████▌| 19/20 [41:32<00:58, 58.62s/it]"
     ]
    },
    {
     "name": "stdout",
     "output_type": "stream",
     "text": [
      "MOGP seed 18: RMSE = 0.09413747814765816, NLPD = -0.9306433011537756\n",
      "MORCGP PM seed 18: RMSE = 0.09382687029040747, NLPD = -0.9295646179700515\n",
      "MORCGP seed 18: RMSE = 0.09418522424910906, NLPD = -0.9326141203026367\n"
     ]
    },
    {
     "name": "stderr",
     "output_type": "stream",
     "text": [
      "100%|██████████| 20/20 [43:12<00:00, 129.64s/it]"
     ]
    },
    {
     "name": "stdout",
     "output_type": "stream",
     "text": [
      "MOGP seed 19: RMSE = 0.09735527774846713, NLPD = -0.9076650840304173\n",
      "MORCGP PM seed 19: RMSE = 0.09751415394361114, NLPD = -0.8907186717245351\n",
      "MORCGP seed 19: RMSE = 0.09704895729504417, NLPD = -0.9138994993153526\n",
      "RMSE MOGP: 0.0933 ± 0.0038\n",
      "NLPD MOGP: -0.9424 ± 0.0399\n",
      "RMSE MORCGP (PM): 0.0928 ± 0.0042\n",
      "NLPD MORCGP (PM): -0.9427 ± 0.0449\n",
      "RMSE MORCGP: 0.0933 ± 0.0035\n",
      "NLPD MORCGP: -0.9450 ± 0.0375\n"
     ]
    },
    {
     "name": "stderr",
     "output_type": "stream",
     "text": [
      "\n"
     ]
    }
   ],
   "source": [
    "introduce_outliers = False\n",
    "introduce_missing_values = False\n",
    "\n",
    "run_mogp = True\n",
    "run_pm = True\n",
    "run_morcgp = True\n",
    "\n",
    "rmses_mogp_outliers, rmses_morcgp_outliers, rmses_pm_outliers = [], [], []\n",
    "nlpds_mogp_outliers, nlpds_morcgp_outliers, nlpds_pm_outliers = [], [], []\n",
    "\n",
    "N, D = 100, 3\n",
    "noise_var = 0.1\n",
    "if introduce_outliers:\n",
    "    epsilon = 0.1\n",
    "else:\n",
    "    epsilon = 0\n",
    "\n",
    "if introduce_missing_values:\n",
    "    missing_rate = 0.1\n",
    "else:\n",
    "    missing_rate = 0\n",
    "\n",
    "lengthscale = 1\n",
    "rbf_variance = 1.0\n",
    "\n",
    "# B = np.array([\n",
    "#     [1.0,  0.9,  0.7,  0.5],\n",
    "#     [0.9,  1.0,  0.8,  0.6],\n",
    "#     [0.7, 0.8,  1.0, 0.9],\n",
    "#     [0.5,  0.6,  0.9,  1.0],\n",
    "# ])\n",
    "B = np.array([\n",
    "    [1.0,  0.9,  0.7],\n",
    "    [0.9,  1.0,  0.8],\n",
    "    [0.7, 0.8,  1.0],\n",
    "])\n",
    "A = np.linalg.cholesky(B)\n",
    "\n",
    "epsilons = np.array([epsilon, 0, 0])\n",
    "\n",
    "for i in tqdm(range(20)):\n",
    "    np.random.seed(i)\n",
    "    x = np.sort(np.random.uniform(-5, 5, N)).reshape(-1, 1)\n",
    "    Kx = rbf_kernel(x, x, lengthscale=lengthscale, variance=rbf_variance)\n",
    "    K = np.kron(B, Kx)\n",
    "\n",
    "    L = cholesky(K + 1e-6*np.eye(D*N), lower=True)\n",
    "\n",
    "    f_samples = L @ np.random.randn(D*N)\n",
    "    F = f_samples.reshape(D, N).T\n",
    "    Y_test = F + np.random.normal(0, noise_var, F.shape)\n",
    "    Y_train = Y_test.copy()\n",
    "\n",
    "    outliers_mask = np.zeros_like(Y_train, dtype=bool)\n",
    "\n",
    "    # Introduce missing values\n",
    "    if introduce_missing_values:\n",
    "        n_missing = int(missing_rate * Y_train.size)\n",
    "        missing_indices = np.random.choice(Y_train.size, n_missing, replace=False)\n",
    "        missing_coords = np.unravel_index(missing_indices, Y_train.shape)\n",
    "        Y_train[missing_coords] = np.nan\n",
    "\n",
    "    # Introduce outliers in only one column (e.g., first column)\n",
    "    if introduce_outliers:\n",
    "        target_col = 0  # change this index to select which column (0-based)\n",
    "        non_nan_rows = np.where(~np.isnan(Y_train[:, target_col]))[0]\n",
    "        n_non_nan = len(non_nan_rows)\n",
    "        num_outliers = int(epsilon * n_non_nan)\n",
    "\n",
    "        if num_outliers > 0:\n",
    "            outlier_rows = np.random.choice(non_nan_rows, num_outliers, replace=False)\n",
    "\n",
    "            for row in outlier_rows:\n",
    "                if Y_train[row, target_col] > 0:\n",
    "                    Y_train[row, target_col] += np.random.uniform(-3, -2)  # negative outlier\n",
    "                else:\n",
    "                    Y_train[row, target_col] += np.random.uniform(2, 3)    # positive outlier\n",
    "            outliers_mask[outlier_rows, target_col] = True\n",
    "\n",
    "        # Count outliers in that column\n",
    "        outliers_per_column = np.sum(outliers_mask, axis=0)\n",
    "        \n",
    "    Y_train_clean = Y_train[~np.isnan(Y_train).any(axis=1)]\n",
    "    mcd = MinCovDet(support_fraction=1-2*epsilon).fit(Y_train_clean)\n",
    "    robust_covariance = mcd.covariance_\n",
    "    robust_init_A = np.linalg.cholesky(robust_covariance)\n",
    "\n",
    "    if run_mogp:\n",
    "        # MOGP\n",
    "        mogp = MOGPRegressor(mean=0, length_scale=1, noise = np.array([0.1] * D), A = robust_init_A)\n",
    "        mogp.fit(x, Y_train)\n",
    "        mogp.optimize_hyperparameters(print_opt_param=False, print_iter_param=False)\n",
    "        mu_mogp, var_mogp = mogp.predict(x)\n",
    "        std_mogp = np.sqrt(var_mogp + mogp.noise)\n",
    "\n",
    "    if run_morcgp:\n",
    "        # MORCGP   \n",
    "        morcgp = MORCGP(mean=0, length_scale=1, noise_var=np.array([0.1]*D), A=robust_init_A)\n",
    "        morcgp.fit(x, Y_train, epsilons=epsilons)\n",
    "        init_gamma, init_c, gamma, c = morcgp.optimize_loo_cv(print_opt_param=False, print_iter_objective=False, k=2, init_cov=robust_covariance, fix_weights=True)\n",
    "        mu_morcgp, var_morcgp = morcgp.predict(x)\n",
    "        std_morcgp = np.sqrt(var_morcgp + morcgp.noise_var)\n",
    "\n",
    "    if run_pm:\n",
    "        # MORCGP (RCGP weights)\n",
    "        morcgp_pm = MORCGPRegressor_PM(mean=0, length_scale=1, noise=np.array([0.1]*D), A=robust_init_A, epsilons=epsilons)\n",
    "        morcgp_pm.fit(x, Y_train)\n",
    "        morcgp_pm.optimize_loo_cv(weighted=True, print_opt_param = False, print_iter_param=False)\n",
    "        mu_pm, var_pm = morcgp_pm.predict(x)\n",
    "        std_pm = np.sqrt(var_pm + morcgp_pm.noise)\n",
    "\n",
    "    # Performance metrics\n",
    "    if run_mogp:\n",
    "        rmse_mogp = calculate_rmse(Y_test, mu_mogp)\n",
    "        nlpd_mogp = nlpd(Y_test, mu_mogp, std_mogp**2)\n",
    "        print(f'MOGP seed {i}: RMSE = {rmse_mogp}, NLPD = {nlpd_mogp}')\n",
    "\n",
    "        rmses_mogp_outliers.append(rmse_mogp)\n",
    "        nlpds_mogp_outliers.append(nlpd_mogp)\n",
    "\n",
    "    if run_pm:\n",
    "        rmse_pm = calculate_rmse(Y_test, mu_pm)\n",
    "        nlpd_pm = nlpd(Y_test, mu_pm, std_pm**2)\n",
    "        print(f'MORCGP PM seed {i}: RMSE = {rmse_pm}, NLPD = {nlpd_pm}')\n",
    "\n",
    "        rmses_pm_outliers.append(rmse_pm)\n",
    "        nlpds_pm_outliers.append(nlpd_pm)\n",
    "\n",
    "    if run_morcgp:\n",
    "        rmse_morcgp = calculate_rmse(Y_test, mu_morcgp)\n",
    "        nlpd_morcgp = nlpd(Y_test, mu_morcgp, std_morcgp**2)\n",
    "        print(f'MORCGP seed {i}: RMSE = {rmse_morcgp}, NLPD = {nlpd_morcgp}')\n",
    "\n",
    "        rmses_morcgp_outliers.append(rmse_morcgp)\n",
    "        nlpds_morcgp_outliers.append(nlpd_morcgp)\n",
    "\n",
    "if run_mogp:\n",
    "    print(f'RMSE MOGP: {np.mean(rmses_mogp_outliers):.4f} ± {np.std(rmses_mogp_outliers):.4f}')\n",
    "    print(f'NLPD MOGP: {np.mean(nlpds_mogp_outliers):.4f} ± {np.std(nlpds_mogp_outliers):.4f}')\n",
    "if run_pm:\n",
    "    print(f'RMSE MORCGP (PM): {np.mean(rmses_pm_outliers):.4f} ± {np.std(rmses_pm_outliers):.4f}')\n",
    "    print(f'NLPD MORCGP (PM): {np.mean(nlpds_pm_outliers):.4f} ± {np.std(nlpds_pm_outliers):.4f}')\n",
    "if run_morcgp:\n",
    "    print(f'RMSE MORCGP: {np.mean(rmses_morcgp_outliers):.4f} ± {np.std(rmses_morcgp_outliers):.4f}')\n",
    "    print(f'NLPD MORCGP: {np.mean(nlpds_morcgp_outliers):.4f} ± {np.std(nlpds_morcgp_outliers):.4f}')"
   ]
  }
 ],
 "metadata": {
  "kernelspec": {
   "display_name": "Python 3",
   "language": "python",
   "name": "python3"
  },
  "language_info": {
   "codemirror_mode": {
    "name": "ipython",
    "version": 3
   },
   "file_extension": ".py",
   "mimetype": "text/x-python",
   "name": "python",
   "nbconvert_exporter": "python",
   "pygments_lexer": "ipython3",
   "version": "3.13.5"
  }
 },
 "nbformat": 4,
 "nbformat_minor": 5
}
